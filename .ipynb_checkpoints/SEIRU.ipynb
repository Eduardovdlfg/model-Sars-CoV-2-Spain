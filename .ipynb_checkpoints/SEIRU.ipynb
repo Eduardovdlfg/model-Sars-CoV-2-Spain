{
 "cells": [
  {
   "cell_type": "markdown",
   "metadata": {},
   "source": [
    "# Modelo SEIRU:\n",
    "”S” como suscetíveis, ”E” como expostos, ”I” como infectados assintomáticos, ”R” como indiv´ıduos com sintomas e devidamente testados e ”U” como indivíduos com sintomas que não foram testados.\n",
    "\n",
    "$$\n",
    "\\begin{align}\n",
    "S'(t)&=-\\tau(t)S(T)(I(t)+U(t))\\\\\n",
    "S(t_0)&=S_0 >0; \\\\ \\\\\n",
    "E'(t)&=\\tau(t)S(t)(I(t)+U(t)) - \\alpha E(t),\\\\\n",
    "E(t_0)&=E_0 >0; \\\\ \\\\\n",
    "I'(t)&=\\alpha E(t)-(v_{1}+v_{2}) I(t)\\\\\n",
    "I(t_0)&=I_0 >0; \\\\ \\\\\n",
    "R'(t)&=v_{1}I(t)-\\eta R(t)\\\\\n",
    "R(t_0)&=R_0=0; \\\\ \\\\\n",
    "U'(t)&=v_2 I(t)- \\eta U(t)\\\\\n",
    "U(t_0)&=U_0 >0. \\\\ \n",
    "\\end{align}\n",
    "$$"
   ]
  },
  {
   "cell_type": "code",
   "execution_count": 1,
   "metadata": {},
   "outputs": [],
   "source": [
    "%display typeset"
   ]
  },
  {
   "cell_type": "code",
   "execution_count": null,
   "metadata": {},
   "outputs": [],
   "source": [
    "dsdt = "
   ]
  },
  {
   "cell_type": "code",
   "execution_count": null,
   "metadata": {},
   "outputs": [],
   "source": [
    "def fun (t,y, pars):\n",
    "    S,E,I,R,U = y\n",
    "    tao, alpha, n, eta, v1, v2 = pars\n",
    "    return [-tao, \n",
    "            beta*I*S - mu*I,\n",
    "            mu*I\n",
    "            ]"
   ]
  },
  {
   "cell_type": "code",
   "execution_count": null,
   "metadata": {},
   "outputs": [],
   "source": [
    "def model(t, y, params):\n",
    "    S, E, I, A, H, R, C, D = y\n",
    "    chi, phi, beta, rho, delta, gamma, alpha, mu, p, q, r = params\n",
    "    lamb = beta * (I + A)\n",
    "    # Turns on Quarantine on day q and off on day q+r\n",
    "    chi *= ((1 + np.tanh(t - q)) / 2) * ((1 - np.tanh(t - (q + r))) / 2)\n",
    "    return [\n",
    "        -lamb * ((1 - chi) * S),  # dS/dt\n",
    "        lamb * ((1 - chi) * S) - alpha * E,  # dE/dt\n",
    "        (1 - p) * alpha * E - delta * I - phi * I,  # dI/dt\n",
    "        p * alpha * E - gamma * A,\n",
    "        phi * I - (rho + mu) * H,  # dH/dt\n",
    "        delta * I + rho * H + gamma * A,  # dR/dt\n",
    "        phi * I,  # (1-p)*alpha*E+ p*alpha*E # Hospit. acumuladas\n",
    "        mu * H  # Morte acumuladas\n",
    "    ]     "
   ]
  }
 ],
 "metadata": {
  "kernelspec": {
   "display_name": "SageMath 9.1",
   "language": "sage",
   "name": "sagemath"
  },
  "language_info": {
   "codemirror_mode": {
    "name": "ipython",
    "version": 3
   },
   "file_extension": ".py",
   "mimetype": "text/x-python",
   "name": "python",
   "nbconvert_exporter": "python",
   "pygments_lexer": "ipython3",
   "version": "3.7.3"
  }
 },
 "nbformat": 4,
 "nbformat_minor": 2
}
