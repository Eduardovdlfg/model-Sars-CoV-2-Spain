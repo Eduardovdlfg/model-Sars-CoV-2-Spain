{
 "cells": [
  {
   "cell_type": "markdown",
   "metadata": {},
   "source": [
    "# Modelo SEIRU:\n",
    "”S” como suscetíveis, ”E” como expostos, ”I” como infectados assintomáticos, ”R” como indiv´ıduos com sintomas e devidamente testados e ”U” como indivíduos com sintomas que não foram testados.\n",
    "\n",
    "$$\n",
    "\\begin{align}\n",
    "v&=v_1 + v_2 \\\\ \\\\\n",
    "S'(t)&=-\\tau(t)S(T)(I(t)+U(t))\\\\\n",
    "S(t_0)&=S_0 >0; \\\\ \\\\\n",
    "E'(t)&=\\tau(t)S(t)(I(t)+U(t)) - \\alpha E(t),\\\\\n",
    "E(t_0)&=E_0 >0; \\\\ \\\\\n",
    "I'(t)&=\\alpha E(t)-(v_{1}+v_{2}) I(t)\\\\\n",
    "I(t_0)&=I_0 >0; \\\\ \\\\\n",
    "R'(t)&=v_{1}I(t)-\\eta R(t)\\\\\n",
    "R(t_0)&=R_0=0; \\\\ \\\\\n",
    "U'(t)&=v_2 I(t)- \\eta U(t)\\\\\n",
    "U(t_0)&=U_0 >0; \\\\ \\\\\n",
    "\\\\\n",
    "\\end{align}\n",
    "$$\n",
    "\n",
    "\n"
   ]
  },
  {
   "cell_type": "markdown",
   "metadata": {},
   "source": [
    "------------------------------------------------------------------------------------------------------------------------------\n",
    "## Análise Dimensional:\n",
    "Todas as derivadas dC/dt (sendo C um compartimento do modelo) acima têm dimensão $[dC/dt] = T^-1$, pois são taxas de variação \"indivíduos por tempo\". \n",
    "\n",
    "Desta forma, fica claro que pela primeira equação, $[\\tau ]=[dS/dt]=T^{-1}$. \n",
    "\n",
    "Pela eq. de $E'(t)$, temos que $[\\alpha *E]=[\\tau*S*(I+U)]$, logo $[\\alpha]=[\\tau]=T^{-1}$.\n",
    "\n",
    "Pela eq. de $I'(t)$, temos que $[v_1]=[v_2]=[\\alpha]=T^{-1}$ e, portanto, $[v]=T^{-1}$. \n",
    "\n",
    "Finalmente, por $R'(t)$, $[\\eta]=[v_1]=T^{-1}$.\n",
    "\n"
   ]
  },
  {
   "cell_type": "code",
   "execution_count": 2,
   "metadata": {},
   "outputs": [],
   "source": [
    "#!{sys.executable} -m pip install pandas\n",
    "#!{sys.executable} -m pip install parameter-sherpa\n",
    "#!{sys.executable} -m pip install lmfit\n",
    "#!{sys.executable} -m pip install plotly"
   ]
  },
  {
   "cell_type": "code",
   "execution_count": 3,
   "metadata": {},
   "outputs": [
    {
     "name": "stderr",
     "output_type": "stream",
     "text": [
      "/opt/sagemath-9.1/local/lib/python3.7/site-packages/IPython/html.py:14: ShimWarning:\n",
      "\n",
      "The `IPython.html` package has been deprecated since IPython 4.0. You should import from `notebook` instead. `IPython.html.widgets` has moved to `ipywidgets`.\n",
      "\n"
     ]
    }
   ],
   "source": [
    "%display typeset\n",
    "\n",
    "import sympy\n",
    "import numpy as np\n",
    "import sys\n",
    "import pandas as pd\n",
    "import matplotlib.pyplot as plt\n",
    "from scipy import signal\n",
    "from lmfit import minimize, Parameters, Parameter, report_fit\n",
    "import os\n",
    "from scipy.integrate import odeint\n",
    "import plotly.graph_objects as go\n",
    "import plotly.io as pio\n",
    "pio.renderers.default = \"notebook\"\n",
    "%matplotlib inline\n",
    "plt.style.use('ggplot')\n",
    "from matplotlib.widgets import Slider, Button, RadioButtons\n",
    "from IPython.html.widgets import *\n"
   ]
  },
  {
   "cell_type": "code",
   "execution_count": 4,
   "metadata": {},
   "outputs": [
    {
     "data": {
      "text/html": [
       "<html><script type=\"math/tex; mode=display\">\\newcommand{\\Bold}[1]{\\mathbf{#1}}\\left(S, E, I, R, U, \\tau, \\alpha, v_{1}, v_{2}, \\eta\\right)</script></html>"
      ],
      "text/plain": [
       "(S, E, I, R, U, tau, alpha, v1, v2, eta)"
      ]
     },
     "execution_count": 4,
     "metadata": {},
     "output_type": "execute_result"
    }
   ],
   "source": [
    "var('S E I R U tau alpha v1 v2 eta')"
   ]
  },
  {
   "cell_type": "code",
   "execution_count": 5,
   "metadata": {},
   "outputs": [],
   "source": [
    "def seiru (t,y, pars):\n",
    "    S,E,I,R,U = y\n",
    "    tau, alpha, eta, v1, v2 = pars\n",
    "    return [-tau*S*(I + U),         #dS/dt\n",
    "            tau*S*(I + U) -alpha*E, #dE/dt\n",
    "            alpha*E-(v1+v2)*I,            #dI/dt\n",
    "            v1*I-eta*R,             #dR/dt\n",
    "            (v2)*I-eta*U          #dU/dt\n",
    "            ]"
   ]
  },
  {
   "cell_type": "code",
   "execution_count": 6,
   "metadata": {},
   "outputs": [
    {
     "data": {
      "text/html": [
       "<html><script type=\"math/tex; mode=display\">\\newcommand{\\Bold}[1]{\\mathbf{#1}}\\left[\\left[S = r_{1}, E = 0, I = 0, R = 0, U = 0\\right]\\right]</script></html>"
      ],
      "text/plain": [
       "[[S == r1, E == 0, I == 0, R == 0, U == 0]]"
      ]
     },
     "execution_count": 6,
     "metadata": {},
     "output_type": "execute_result"
    }
   ],
   "source": [
    "solve(seiru([0,200],[S,E,I,R,U],[tau, alpha, eta, v1, v2]),[S,E,I,R,U])"
   ]
  },
  {
   "cell_type": "markdown",
   "metadata": {},
   "source": [
    "# Calculando o R0"
   ]
  },
  {
   "cell_type": "code",
   "execution_count": 7,
   "metadata": {},
   "outputs": [
    {
     "data": {
      "text/html": [
       "<html><script type=\"math/tex; mode=display\">\\newcommand{\\Bold}[1]{\\mathbf{#1}}\\left(\\begin{array}{rrrrr}\n",
       "-{\\left(I + U\\right)} \\tau & 0 & -S \\tau & 0 & -S \\tau \\\\\n",
       "{\\left(I + U\\right)} \\tau & -\\alpha & S \\tau & 0 & S \\tau \\\\\n",
       "0 & \\alpha & -v_{1} - v_{2} & 0 & 0 \\\\\n",
       "0 & 0 & v_{1} & -\\eta & 0 \\\\\n",
       "0 & 0 & v_{2} & 0 & -\\eta\n",
       "\\end{array}\\right)</script></html>"
      ],
      "text/plain": [
       "[-(I + U)*tau            0       -S*tau            0       -S*tau]\n",
       "[ (I + U)*tau       -alpha        S*tau            0        S*tau]\n",
       "[           0        alpha     -v1 - v2            0            0]\n",
       "[           0            0           v1         -eta            0]\n",
       "[           0            0           v2            0         -eta]"
      ]
     },
     "execution_count": 7,
     "metadata": {},
     "output_type": "execute_result"
    }
   ],
   "source": [
    "jack=jacobian(seiru([0,200],[S,E,I,R,U],[tau, alpha, eta, v1, v2]),[S,E,I,R,U])\n",
    "jack"
   ]
  },
  {
   "cell_type": "code",
   "execution_count": 8,
   "metadata": {},
   "outputs": [
    {
     "data": {
      "text/html": [
       "<html><script type=\"math/tex; mode=display\">\\newcommand{\\Bold}[1]{\\mathbf{#1}}x^{5} + \\left(I \\tau + U \\tau + \\alpha + 2 \\, \\eta + v_{1} + v_{2}\\right) x^{4} + \\left(I \\alpha \\tau - S \\alpha \\tau + U \\alpha \\tau + 2 \\, I \\eta \\tau + 2 \\, U \\eta \\tau + I \\tau v_{1} + U \\tau v_{1} + I \\tau v_{2} + U \\tau v_{2} + 2 \\, \\alpha \\eta + \\eta^{2} + \\alpha v_{1} + 2 \\, \\eta v_{1} + \\alpha v_{2} + 2 \\, \\eta v_{2}\\right) x^{3} + \\left(2 \\, I \\alpha \\eta \\tau - 2 \\, S \\alpha \\eta \\tau + 2 \\, U \\alpha \\eta \\tau + I \\eta^{2} \\tau + U \\eta^{2} \\tau + I \\alpha \\tau v_{1} + U \\alpha \\tau v_{1} + 2 \\, I \\eta \\tau v_{1} + 2 \\, U \\eta \\tau v_{1} + I \\alpha \\tau v_{2} - S \\alpha \\tau v_{2} + U \\alpha \\tau v_{2} + 2 \\, I \\eta \\tau v_{2} + 2 \\, U \\eta \\tau v_{2} + \\alpha \\eta^{2} + 2 \\, \\alpha \\eta v_{1} + \\eta^{2} v_{1} + 2 \\, \\alpha \\eta v_{2} + \\eta^{2} v_{2}\\right) x^{2} + \\left(I \\alpha \\eta^{2} \\tau - S \\alpha \\eta^{2} \\tau + U \\alpha \\eta^{2} \\tau + 2 \\, I \\alpha \\eta \\tau v_{1} + 2 \\, U \\alpha \\eta \\tau v_{1} + I \\eta^{2} \\tau v_{1} + U \\eta^{2} \\tau v_{1} + 2 \\, I \\alpha \\eta \\tau v_{2} - S \\alpha \\eta \\tau v_{2} + 2 \\, U \\alpha \\eta \\tau v_{2} + I \\eta^{2} \\tau v_{2} + U \\eta^{2} \\tau v_{2} + \\alpha \\eta^{2} v_{1} + \\alpha \\eta^{2} v_{2}\\right) x + I \\alpha \\eta^{2} \\tau v_{1} + U \\alpha \\eta^{2} \\tau v_{1} + I \\alpha \\eta^{2} \\tau v_{2} + U \\alpha \\eta^{2} \\tau v_{2}</script></html>"
      ],
      "text/plain": [
       "x^5 + (I*tau + U*tau + alpha + 2*eta + v1 + v2)*x^4 + (I*alpha*tau - S*alpha*tau + U*alpha*tau + 2*I*eta*tau + 2*U*eta*tau + I*tau*v1 + U*tau*v1 + I*tau*v2 + U*tau*v2 + 2*alpha*eta + eta^2 + alpha*v1 + 2*eta*v1 + alpha*v2 + 2*eta*v2)*x^3 + (2*I*alpha*eta*tau - 2*S*alpha*eta*tau + 2*U*alpha*eta*tau + I*eta^2*tau + U*eta^2*tau + I*alpha*tau*v1 + U*alpha*tau*v1 + 2*I*eta*tau*v1 + 2*U*eta*tau*v1 + I*alpha*tau*v2 - S*alpha*tau*v2 + U*alpha*tau*v2 + 2*I*eta*tau*v2 + 2*U*eta*tau*v2 + alpha*eta^2 + 2*alpha*eta*v1 + eta^2*v1 + 2*alpha*eta*v2 + eta^2*v2)*x^2 + (I*alpha*eta^2*tau - S*alpha*eta^2*tau + U*alpha*eta^2*tau + 2*I*alpha*eta*tau*v1 + 2*U*alpha*eta*tau*v1 + I*eta^2*tau*v1 + U*eta^2*tau*v1 + 2*I*alpha*eta*tau*v2 - S*alpha*eta*tau*v2 + 2*U*alpha*eta*tau*v2 + I*eta^2*tau*v2 + U*eta^2*tau*v2 + alpha*eta^2*v1 + alpha*eta^2*v2)*x + I*alpha*eta^2*tau*v1 + U*alpha*eta^2*tau*v1 + I*alpha*eta^2*tau*v2 + U*alpha*eta^2*tau*v2"
      ]
     },
     "execution_count": 8,
     "metadata": {},
     "output_type": "execute_result"
    }
   ],
   "source": [
    "cp = jack.characteristic_polynomial()\n",
    "cp"
   ]
  },
  {
   "cell_type": "markdown",
   "metadata": {},
   "source": [
    "$$ {\\cal F}_i(x): \\text{ taxa de surgimento de novos infectados no compartimento } i $$\n"
   ]
  },
  {
   "cell_type": "code",
   "execution_count": 9,
   "metadata": {},
   "outputs": [
    {
     "data": {
      "text/html": [
       "<html><script type=\"math/tex; mode=display\">\\newcommand{\\Bold}[1]{\\mathbf{#1}}\\left(\\begin{array}{r}\n",
       "{\\left(I + U\\right)} S \\tau \\\\\n",
       "0 \\\\\n",
       "0 \\\\\n",
       "0\n",
       "\\end{array}\\right)</script></html>"
      ],
      "text/plain": [
       "[(I + U)*S*tau]\n",
       "[            0]\n",
       "[            0]\n",
       "[            0]"
      ]
     },
     "execution_count": 9,
     "metadata": {},
     "output_type": "execute_result"
    }
   ],
   "source": [
    "F_cal = matrix([[tau*S*(I + U)],[0],[0],[0]])\n",
    "F_cal"
   ]
  },
  {
   "cell_type": "markdown",
   "metadata": {},
   "source": [
    "-------------------------------------------------------------------------------\n",
    "\n",
    "$$ {\\cal V}_i(x)^-: \\text{ taxa de saída do compartimento } i $$\n",
    "\n",
    "$$ {\\cal V}_i(x)^+: \\text{ taxa de entrada do compartimento } i $$\n",
    "\n",
    "$$ \\therefore  $$\n",
    "\n"
   ]
  },
  {
   "cell_type": "code",
   "execution_count": 10,
   "metadata": {},
   "outputs": [
    {
     "data": {
      "text/html": [
       "<html><script type=\"math/tex; mode=display\">\\newcommand{\\Bold}[1]{\\mathbf{#1}}\\left(\\begin{array}{r}\n",
       "E \\alpha \\\\\n",
       "I {\\left(v_{1} + v_{2}\\right)} \\\\\n",
       "R \\eta \\\\\n",
       "U \\eta\n",
       "\\end{array}\\right)</script></html>"
      ],
      "text/plain": [
       "[    E*alpha]\n",
       "[I*(v1 + v2)]\n",
       "[      R*eta]\n",
       "[      U*eta]"
      ]
     },
     "execution_count": 10,
     "metadata": {},
     "output_type": "execute_result"
    }
   ],
   "source": [
    "#(E,I,R,U)\n",
    "V_cal_neg = matrix([[alpha*E],[(v1+v2)*I],[eta*R],[eta*U]])\n",
    "V_cal_neg"
   ]
  },
  {
   "cell_type": "code",
   "execution_count": 11,
   "metadata": {},
   "outputs": [
    {
     "data": {
      "text/html": [
       "<html><script type=\"math/tex; mode=display\">\\newcommand{\\Bold}[1]{\\mathbf{#1}}\\left(\\begin{array}{r}\n",
       "0 \\\\\n",
       "E \\alpha \\\\\n",
       "R v_{1} \\\\\n",
       "U v_{2}\n",
       "\\end{array}\\right)</script></html>"
      ],
      "text/plain": [
       "[      0]\n",
       "[E*alpha]\n",
       "[   R*v1]\n",
       "[   U*v2]"
      ]
     },
     "execution_count": 11,
     "metadata": {},
     "output_type": "execute_result"
    }
   ],
   "source": [
    "V_cal_pos = matrix([[0],[alpha*E],[v1*R],[(v2)*U]])\n",
    "V_cal_pos"
   ]
  },
  {
   "cell_type": "code",
   "execution_count": 12,
   "metadata": {},
   "outputs": [
    {
     "data": {
      "text/html": [
       "<html><script type=\"math/tex; mode=display\">\\newcommand{\\Bold}[1]{\\mathbf{#1}}\\left(\\begin{array}{r}\n",
       "E \\alpha \\\\\n",
       "-E \\alpha + I {\\left(v_{1} + v_{2}\\right)} \\\\\n",
       "R \\eta - R v_{1} \\\\\n",
       "U \\eta - U v_{2}\n",
       "\\end{array}\\right)</script></html>"
      ],
      "text/plain": [
       "[               E*alpha]\n",
       "[-E*alpha + I*(v1 + v2)]\n",
       "[          R*eta - R*v1]\n",
       "[          U*eta - U*v2]"
      ]
     },
     "execution_count": 12,
     "metadata": {},
     "output_type": "execute_result"
    }
   ],
   "source": [
    "V_cal = V_cal_neg-V_cal_pos\n",
    "V_cal"
   ]
  },
  {
   "cell_type": "markdown",
   "metadata": {},
   "source": [
    "Definimos também $F=\\left[\\frac{\\partial {\\cal F}_i (x_0)}{\\partial x_j}\\right]$ e $V=\\left[\\frac{\\partial {\\cal V}_i (x_0) }{\\partial x_j}\\right]$, onde $x_0$ é um DFE (Equilíbrio livre de doença) e $1\\leq i,j \\leq m$. \n",
    "\n",
    "Isto equivale à jacobiana  destas duas matrizes, após substituir $x_0$ ou seja, $S=1$."
   ]
  },
  {
   "cell_type": "code",
   "execution_count": 13,
   "metadata": {},
   "outputs": [
    {
     "data": {
      "text/html": [
       "<html><script type=\"math/tex; mode=display\">\\newcommand{\\Bold}[1]{\\mathbf{#1}}\\left(\\begin{array}{rrrr}\n",
       "0 & \\tau & 0 & \\tau \\\\\n",
       "0 & 0 & 0 & 0 \\\\\n",
       "0 & 0 & 0 & 0 \\\\\n",
       "0 & 0 & 0 & 0\n",
       "\\end{array}\\right)</script></html>"
      ],
      "text/plain": [
       "[  0 tau   0 tau]\n",
       "[  0   0   0   0]\n",
       "[  0   0   0   0]\n",
       "[  0   0   0   0]"
      ]
     },
     "execution_count": 13,
     "metadata": {},
     "output_type": "execute_result"
    }
   ],
   "source": [
    "F = jacobian(F_cal(S=1),[E,I,R,U])\n",
    "F"
   ]
  },
  {
   "cell_type": "code",
   "execution_count": 14,
   "metadata": {},
   "outputs": [
    {
     "data": {
      "text/html": [
       "<html><script type=\"math/tex; mode=display\">\\newcommand{\\Bold}[1]{\\mathbf{#1}}\\left(\\begin{array}{rrrr}\n",
       "\\alpha & 0 & 0 & 0 \\\\\n",
       "-\\alpha & v_{1} + v_{2} & 0 & 0 \\\\\n",
       "0 & 0 & \\eta - v_{1} & 0 \\\\\n",
       "0 & 0 & 0 & \\eta - v_{2}\n",
       "\\end{array}\\right)</script></html>"
      ],
      "text/plain": [
       "[   alpha        0        0        0]\n",
       "[  -alpha  v1 + v2        0        0]\n",
       "[       0        0 eta - v1        0]\n",
       "[       0        0        0 eta - v2]"
      ]
     },
     "execution_count": 14,
     "metadata": {},
     "output_type": "execute_result"
    }
   ],
   "source": [
    "V = jacobian(V_cal(S=1),[E,I,R,U])\n",
    "V"
   ]
  },
  {
   "cell_type": "markdown",
   "metadata": {},
   "source": [
    "$${\\cal R}_0 = \\rho (FV^{-1})$$\n",
    "\\\\\n",
    "The reproductive index is defined as the dominant eigenvalue of the matrix\n",
    "$$FV^-1$$\n",
    "; the linearized infection subsystem F and V."
   ]
  },
  {
   "cell_type": "code",
   "execution_count": 15,
   "metadata": {},
   "outputs": [
    {
     "data": {
      "text/html": [
       "<html><script type=\"math/tex; mode=display\">\\newcommand{\\Bold}[1]{\\mathbf{#1}}\\left(\\begin{array}{rrrr}\n",
       "\\frac{\\tau}{v_{1} + v_{2}} & \\frac{\\tau}{v_{1} + v_{2}} & 0 & \\frac{\\tau}{\\eta - v_{2}} \\\\\n",
       "0 & 0 & 0 & 0 \\\\\n",
       "0 & 0 & 0 & 0 \\\\\n",
       "0 & 0 & 0 & 0\n",
       "\\end{array}\\right)</script></html>"
      ],
      "text/plain": [
       "[ tau/(v1 + v2)  tau/(v1 + v2)              0 tau/(eta - v2)]\n",
       "[             0              0              0              0]\n",
       "[             0              0              0              0]\n",
       "[             0              0              0              0]"
      ]
     },
     "execution_count": 15,
     "metadata": {},
     "output_type": "execute_result"
    }
   ],
   "source": [
    "M = F*V.inverse()\n",
    "M"
   ]
  },
  {
   "cell_type": "code",
   "execution_count": 16,
   "metadata": {},
   "outputs": [
    {
     "data": {
      "text/html": [
       "<html><script type=\"math/tex; mode=display\">\\newcommand{\\Bold}[1]{\\mathbf{#1}}\\left(\\begin{array}{rrrr}\n",
       "\\frac{\\tau}{v_{1} + v_{2}} & \\frac{\\tau}{v_{1} + v_{2}} & 0 & \\frac{\\tau}{\\eta - v_{2}} \\\\\n",
       "0 & 0 & 0 & 0 \\\\\n",
       "0 & 0 & 0 & 0 \\\\\n",
       "0 & 0 & 0 & 0\n",
       "\\end{array}\\right)</script></html>"
      ],
      "text/plain": [
       "[ tau/(v1 + v2)  tau/(v1 + v2)              0 tau/(eta - v2)]\n",
       "[             0              0              0              0]\n",
       "[             0              0              0              0]\n",
       "[             0              0              0              0]"
      ]
     },
     "execution_count": 16,
     "metadata": {},
     "output_type": "execute_result"
    }
   ],
   "source": [
    "M=M.simplify_full()\n",
    "M"
   ]
  },
  {
   "cell_type": "code",
   "execution_count": 17,
   "metadata": {},
   "outputs": [
    {
     "data": {
      "text/html": [
       "<html><script type=\"math/tex; mode=display\">\\newcommand{\\Bold}[1]{\\mathbf{#1}}\\left[\\frac{\\tau}{v_{1} + v_{2}}, 0, 0, 0\\right]</script></html>"
      ],
      "text/plain": [
       "[tau/(v1 + v2), 0, 0, 0]"
      ]
     },
     "execution_count": 17,
     "metadata": {},
     "output_type": "execute_result"
    }
   ],
   "source": [
    "M.eigenvalues()"
   ]
  },
  {
   "cell_type": "code",
   "execution_count": 18,
   "metadata": {},
   "outputs": [
    {
     "data": {
      "text/html": [
       "<html><script type=\"math/tex; mode=display\">\\newcommand{\\Bold}[1]{\\mathbf{#1}}\\frac{\\tau}{v_{1} + v_{2}}</script></html>"
      ],
      "text/plain": [
       "tau/(v1 + v2)"
      ]
     },
     "execution_count": 18,
     "metadata": {},
     "output_type": "execute_result"
    }
   ],
   "source": [
    "R0=M[0,0].simplify_full()\n",
    "R0"
   ]
  },
  {
   "cell_type": "code",
   "execution_count": 19,
   "metadata": {},
   "outputs": [
    {
     "data": {
      "text/html": [
       "<html><script type=\"math/tex; mode=display\">\\newcommand{\\Bold}[1]{\\mathbf{#1}}\\left(\\tau, v_{1}, v_{2}\\right)</script></html>"
      ],
      "text/plain": [
       "(tau, v1, v2)"
      ]
     },
     "execution_count": 19,
     "metadata": {},
     "output_type": "execute_result"
    }
   ],
   "source": [
    "R0.variables()"
   ]
  },
  {
   "cell_type": "code",
   "execution_count": 20,
   "metadata": {},
   "outputs": [
    {
     "data": {
      "text/html": [
       "<script type=\"math/tex\">R_t=</script>"
      ],
      "text/plain": [
       "<script type=\"math/tex\">R_t=</script>"
      ]
     },
     "metadata": {},
     "output_type": "display_data"
    },
    {
     "data": {
      "text/html": [
       "<html><script type=\"math/tex; mode=display\">\\newcommand{\\Bold}[1]{\\mathbf{#1}}\\mathrm{None}</script></html>"
      ],
      "text/plain": [
       "None"
      ]
     },
     "metadata": {},
     "output_type": "display_data"
    },
    {
     "data": {
      "text/html": [
       "<html><script type=\"math/tex; mode=display\">\\newcommand{\\Bold}[1]{\\mathbf{#1}}\\frac{S \\tau}{v_{1} + v_{2}}</script></html>"
      ],
      "text/plain": [
       "S*tau/(v1 + v2)"
      ]
     },
     "execution_count": 20,
     "metadata": {},
     "output_type": "execute_result"
    }
   ],
   "source": [
    "Ft = jacobian(F_cal,[E,I,R,U])\n",
    "Vt = jacobian(V_cal,[E,I,R,U])\n",
    "Mt = Ft*Vt.inverse()\n",
    "show(pretty_print(html('$R_t=$')))\n",
    "Rt = Mt[0,0]\n",
    "Rt"
   ]
  },
  {
   "cell_type": "code",
   "execution_count": 21,
   "metadata": {},
   "outputs": [
    {
     "name": "stdout",
     "output_type": "stream",
     "text": [
      "S*tau/(v1 + v2)\n"
     ]
    }
   ],
   "source": [
    "print(Rt)"
   ]
  },
  {
   "cell_type": "code",
   "execution_count": 22,
   "metadata": {},
   "outputs": [
    {
     "data": {
      "text/html": [
       "<html><script type=\"math/tex; mode=display\">\\newcommand{\\Bold}[1]{\\mathbf{#1}}2.00000000000000</script></html>"
      ],
      "text/plain": [
       "2.00000000000000"
      ]
     },
     "execution_count": 22,
     "metadata": {},
     "output_type": "execute_result"
    }
   ],
   "source": [
    "R0(alpha=0.2, v1=0.7*0.2, v2= 0.3*0.2, eta = 0.1, tau = 0.4)"
   ]
  },
  {
   "cell_type": "code",
   "execution_count": 23,
   "metadata": {},
   "outputs": [
    {
     "data": {
      "image/png": "[encoded data removed]",
      "text/plain": [
       "Graphics object consisting of 1 graphics primitive"
      ]
     },
     "metadata": {},
     "output_type": "display_data"
    }
   ],
   "source": [
    "P = plot(Rt(alpha=0.2, v1=0.7*0.2, v2= 0.3*0.2, eta = 0.1, tau = 0.4),(S,0,1))\n",
    "P.show(axes_labels=['S(t)','$R_t$'], gridlines=True)"
   ]
  },
  {
   "cell_type": "markdown",
   "metadata": {},
   "source": [
    "## Equilíbrios"
   ]
  },
  {
   "cell_type": "code",
   "execution_count": 24,
   "metadata": {},
   "outputs": [],
   "source": [
    "alpha, v1, v2, eta, tau = [.2,.14,.06,.1,.4] \n",
    "T = ode_solver()\n",
    "T.function = seiru\n",
    "T.algorithm='rk8pd'\n",
    "inits = [.99,0,1e-4,0,0]\n",
    "tspan = [0,200]\n",
    "T.ode_solve(tspan, y_0=inits, num_points=1000, params=[tau, alpha, eta, v1, v2])"
   ]
  },
  {
   "cell_type": "code",
   "execution_count": 25,
   "metadata": {},
   "outputs": [
    {
     "data": {
      "text/html": [
       "<html><script type=\"math/tex; mode=display\">\\newcommand{\\Bold}[1]{\\mathbf{#1}}\\begin{array}{l}\n",
       "\\verb|[[9.90000000e-01|\\phantom{\\verb!x!}\\verb|0.00000000e+00|\\phantom{\\verb!x!}\\verb|1.00000000e-04|\\phantom{\\verb!x!}\\verb|0.00000000e+00|\\\\\n",
       "\\phantom{\\verb!xx!}\\verb|0.00000000e+00]|\\\\\n",
       "\\phantom{\\verb!x!}\\verb|[9.89992186e-01|\\phantom{\\verb!x!}\\verb|7.65942720e-06|\\phantom{\\verb!x!}\\verb|9.62317847e-05|\\phantom{\\verb!x!}\\verb|2.71872486e-06|\\\\\n",
       "\\phantom{\\verb!xx!}\\verb|1.16516780e-06]|\\\\\n",
       "\\phantom{\\verb!x!}\\verb|[9.89984563e-01|\\phantom{\\verb!x!}\\verb|1.48311510e-05|\\phantom{\\verb!x!}\\verb|9.29018682e-05|\\phantom{\\verb!x!}\\verb|5.28533447e-06|\\\\\n",
       "\\phantom{\\verb!xx!}\\verb|2.26514334e-06]|\\\\\n",
       "\\phantom{\\verb!x!}\\verb|...|\\\\\n",
       "\\phantom{\\verb!x!}\\verb|[4.86876220e-02|\\phantom{\\verb!x!}\\verb|8.92762243e-06|\\phantom{\\verb!x!}\\verb|1.47107423e-05|\\phantom{\\verb!x!}\\verb|9.55810322e-05|\\\\\n",
       "\\phantom{\\verb!xx!}\\verb|4.09632995e-05]|\\\\\n",
       "\\phantom{\\verb!x!}\\verb|[4.86874068e-02|\\phantom{\\verb!x!}\\verb|8.78846506e-06|\\phantom{\\verb!x!}\\verb|1.44812294e-05|\\phantom{\\verb!x!}\\verb|9.40930099e-05|\\\\\n",
       "\\phantom{\\verb!xx!}\\verb|4.03255757e-05]|\\\\\n",
       "\\phantom{\\verb!x!}\\verb|[4.86871950e-02|\\phantom{\\verb!x!}\\verb|8.65147803e-06|\\phantom{\\verb!x!}\\verb|1.42553023e-05|\\phantom{\\verb!x!}\\verb|9.26281398e-05|\\\\\n",
       "\\phantom{\\verb!xx!}\\verb|3.96977742e-05]]|\n",
       "\\end{array}</script></html>"
      ],
      "text/plain": [
       "array([[9.90000000e-01, 0.00000000e+00, 1.00000000e-04, 0.00000000e+00,\n",
       "        0.00000000e+00],\n",
       "       [9.89992186e-01, 7.65942720e-06, 9.62317847e-05, 2.71872486e-06,\n",
       "        1.16516780e-06],\n",
       "       [9.89984563e-01, 1.48311510e-05, 9.29018682e-05, 5.28533447e-06,\n",
       "        2.26514334e-06],\n",
       "       ...,\n",
       "       [4.86876220e-02, 8.92762243e-06, 1.47107423e-05, 9.55810322e-05,\n",
       "        4.09632995e-05],\n",
       "       [4.86874068e-02, 8.78846506e-06, 1.44812294e-05, 9.40930099e-05,\n",
       "        4.03255757e-05],\n",
       "       [4.86871950e-02, 8.65147803e-06, 1.42553023e-05, 9.26281398e-05,\n",
       "        3.96977742e-05]])"
      ]
     },
     "execution_count": 25,
     "metadata": {},
     "output_type": "execute_result"
    }
   ],
   "source": [
    "def get_sim_array(sol):\n",
    "    sim = np.array([y for t,y in sol])\n",
    "    return sim\n",
    "get_sim_array(T.solution)\n"
   ]
  },
  {
   "cell_type": "code",
   "execution_count": 26,
   "metadata": {},
   "outputs": [
    {
     "data": {
      "text/html": [
       "<html><script type=\"math/tex; mode=display\">\\newcommand{\\Bold}[1]{\\mathbf{#1}}\\verb|Legend|</script></html>"
      ],
      "text/plain": [
       "<matplotlib.legend.Legend object at 0x6fda11607f0>"
      ]
     },
     "execution_count": 26,
     "metadata": {},
     "output_type": "execute_result"
    },
    {
     "data": {
      "image/png": "[encoded data removed]",
      "text/plain": [
       "<Figure size 1200x560 with 1 Axes>"
      ]
     },
     "metadata": {},
     "output_type": "display_data"
    }
   ],
   "source": [
    "a=get_sim_array(T.solution)\n",
    "plt.figure(num=None, figsize=(15, 7), dpi=80, facecolor='w', edgecolor='k')\n",
    "plt.plot(a[:,0],label='S')\n",
    "plt.plot(a[:,1],label='E')\n",
    "plt.plot(a[:,2],label='I')\n",
    "plt.plot(a[:,3],label='R')\n",
    "plt.plot(a[:,4],label='U')\n",
    "plt.grid(True)\n",
    "plt.legend()"
   ]
  },
  {
   "cell_type": "markdown",
   "metadata": {},
   "source": [
    "## Os dados da Espanha"
   ]
  },
  {
   "cell_type": "code",
   "execution_count": 28,
   "metadata": {},
   "outputs": [],
   "source": [
    "spain = pd.read_csv('covid.csv')\n",
    "spain=spain.loc[spain[\"location\"]==\"Spain\"]\n",
    "spain.index = range(len(spain))\n",
    "spain['data'] = pd.to_datetime(spain.date)"
   ]
  },
  {
   "cell_type": "code",
   "execution_count": 29,
   "metadata": {},
   "outputs": [
    {
     "data": {
      "text/html": [
       "<html><script type=\"math/tex; mode=display\">\\newcommand{\\Bold}[1]{\\mathbf{#1}}\\begin{array}{l}\n",
       "\\verb|Index(['iso_code',|\\phantom{\\verb!x!}\\verb|'continent',|\\phantom{\\verb!x!}\\verb|'location',|\\phantom{\\verb!x!}\\verb|'date',|\\phantom{\\verb!x!}\\verb|'total_cases',|\\phantom{\\verb!x!}\\verb|'new_cases',|\\\\\n",
       "\\phantom{\\verb!xxxxxxx!}\\verb|'new_cases_smoothed',|\\phantom{\\verb!x!}\\verb|'total_deaths',|\\phantom{\\verb!x!}\\verb|'new_deaths',|\\\\\n",
       "\\phantom{\\verb!xxxxxxx!}\\verb|'new_deaths_smoothed',|\\phantom{\\verb!x!}\\verb|'total_cases_per_million',|\\\\\n",
       "\\phantom{\\verb!xxxxxxx!}\\verb|'new_cases_per_million',|\\phantom{\\verb!x!}\\verb|'new_cases_smoothed_per_million',|\\\\\n",
       "\\phantom{\\verb!xxxxxxx!}\\verb|'total_deaths_per_million',|\\phantom{\\verb!x!}\\verb|'new_deaths_per_million',|\\\\\n",
       "\\phantom{\\verb!xxxxxxx!}\\verb|'new_deaths_smoothed_per_million',|\\phantom{\\verb!x!}\\verb|'reproduction_rate',|\\phantom{\\verb!x!}\\verb|'icu_patients',|\\\\\n",
       "\\phantom{\\verb!xxxxxxx!}\\verb|'icu_patients_per_million',|\\phantom{\\verb!x!}\\verb|'hosp_patients',|\\\\\n",
       "\\phantom{\\verb!xxxxxxx!}\\verb|'hosp_patients_per_million',|\\phantom{\\verb!x!}\\verb|'weekly_icu_admissions',|\\\\\n",
       "\\phantom{\\verb!xxxxxxx!}\\verb|'weekly_icu_admissions_per_million',|\\phantom{\\verb!x!}\\verb|'weekly_hosp_admissions',|\\\\\n",
       "\\phantom{\\verb!xxxxxxx!}\\verb|'weekly_hosp_admissions_per_million',|\\phantom{\\verb!x!}\\verb|'total_tests',|\\phantom{\\verb!x!}\\verb|'new_tests',|\\\\\n",
       "\\phantom{\\verb!xxxxxxx!}\\verb|'total_tests_per_thousand',|\\phantom{\\verb!x!}\\verb|'new_tests_per_thousand',|\\\\\n",
       "\\phantom{\\verb!xxxxxxx!}\\verb|'new_tests_smoothed',|\\phantom{\\verb!x!}\\verb|'new_tests_smoothed_per_thousand',|\\\\\n",
       "\\phantom{\\verb!xxxxxxx!}\\verb|'positive_rate',|\\phantom{\\verb!x!}\\verb|'tests_per_case',|\\phantom{\\verb!x!}\\verb|'tests_units',|\\phantom{\\verb!x!}\\verb|'stringency_index',|\\\\\n",
       "\\phantom{\\verb!xxxxxxx!}\\verb|'population',|\\phantom{\\verb!x!}\\verb|'population_density',|\\phantom{\\verb!x!}\\verb|'median_age',|\\phantom{\\verb!x!}\\verb|'aged_65_older',|\\\\\n",
       "\\phantom{\\verb!xxxxxxx!}\\verb|'aged_70_older',|\\phantom{\\verb!x!}\\verb|'gdp_per_capita',|\\phantom{\\verb!x!}\\verb|'extreme_poverty',|\\\\\n",
       "\\phantom{\\verb!xxxxxxx!}\\verb|'cardiovasc_death_rate',|\\phantom{\\verb!x!}\\verb|'diabetes_prevalence',|\\phantom{\\verb!x!}\\verb|'female_smokers',|\\\\\n",
       "\\phantom{\\verb!xxxxxxx!}\\verb|'male_smokers',|\\phantom{\\verb!x!}\\verb|'handwashing_facilities',|\\phantom{\\verb!x!}\\verb|'hospital_beds_per_thousand',|\\\\\n",
       "\\phantom{\\verb!xxxxxxx!}\\verb|'life_expectancy',|\\phantom{\\verb!x!}\\verb|'human_development_index',|\\phantom{\\verb!x!}\\verb|'data'],|\\\\\n",
       "\\phantom{\\verb!xxxxxx!}\\verb|dtype='object')|\n",
       "\\end{array}</script></html>"
      ],
      "text/plain": [
       "Index(['iso_code', 'continent', 'location', 'date', 'total_cases', 'new_cases',\n",
       "       'new_cases_smoothed', 'total_deaths', 'new_deaths',\n",
       "       'new_deaths_smoothed', 'total_cases_per_million',\n",
       "       'new_cases_per_million', 'new_cases_smoothed_per_million',\n",
       "       'total_deaths_per_million', 'new_deaths_per_million',\n",
       "       'new_deaths_smoothed_per_million', 'reproduction_rate', 'icu_patients',\n",
       "       'icu_patients_per_million', 'hosp_patients',\n",
       "       'hosp_patients_per_million', 'weekly_icu_admissions',\n",
       "       'weekly_icu_admissions_per_million', 'weekly_hosp_admissions',\n",
       "       'weekly_hosp_admissions_per_million', 'total_tests', 'new_tests',\n",
       "       'total_tests_per_thousand', 'new_tests_per_thousand',\n",
       "       'new_tests_smoothed', 'new_tests_smoothed_per_thousand',\n",
       "       'positive_rate', 'tests_per_case', 'tests_units', 'stringency_index',\n",
       "       'population', 'population_density', 'median_age', 'aged_65_older',\n",
       "       'aged_70_older', 'gdp_per_capita', 'extreme_poverty',\n",
       "       'cardiovasc_death_rate', 'diabetes_prevalence', 'female_smokers',\n",
       "       'male_smokers', 'handwashing_facilities', 'hospital_beds_per_thousand',\n",
       "       'life_expectancy', 'human_development_index', 'data'],\n",
       "      dtype='object')"
      ]
     },
     "execution_count": 29,
     "metadata": {},
     "output_type": "execute_result"
    }
   ],
   "source": [
    "spain.columns"
   ]
  },
  {
   "cell_type": "code",
   "execution_count": 207,
   "metadata": {},
   "outputs": [],
   "source": [
    "popES=46760000\n",
    "\n",
    "new_cases=list(spain['new_cases'])[9:]  #começa no dia do primeiro caso\n",
    "new_deaths=list(spain[\"new_deaths\"])[9:]\n",
    "\n",
    "total_cases=[1]\n",
    "total_deaths=[0]\n",
    "\n",
    "new_cases = signal.savgol_filter(new_cases,7,1)\n",
    "new_deaths= signal.savgol_filter(new_deaths,7,1)\n",
    "\n",
    "d=len(new_cases)\n",
    "\n",
    "for i in range(1,d):\n",
    "    total_cases.append(total_cases[i-1]+new_cases[i])   \n",
    "    total_deaths.append(total_deaths[i-1]+new_deaths[i])\n",
    "\n",
    "data = np.array(new_cases)/popES"
   ]
  },
  {
   "cell_type": "code",
   "execution_count": 208,
   "metadata": {},
   "outputs": [
    {
     "data": {
      "text/html": [
       "<html><script type=\"math/tex; mode=display\">\\newcommand{\\Bold}[1]{\\mathbf{#1}}\\verb|Legend|</script></html>"
      ],
      "text/plain": [
       "<matplotlib.legend.Legend object at 0x6fd759e9cc0>"
      ]
     },
     "execution_count": 208,
     "metadata": {},
     "output_type": "execute_result"
    },
    {
     "data": {
      "image/png": "[encoded data removed]",
      "text/plain": [
       "<Figure size 1080x504 with 2 Axes>"
      ]
     },
     "metadata": {},
     "output_type": "display_data"
    }
   ],
   "source": [
    "fig, axs = plt.subplots(2,1, sharex=True,figsize=(15, 7))\n",
    "fig.suptitle('Vertically stacked subplots')\n",
    "\n",
    "axs[0].plot(range(d),list(spain['new_cases'])[9:],label='Mortes diárias reais')\n",
    "axs[0].plot(range(d),list(spain['new_deaths'])[9:],'.',label='Mortes diárias reais')\n",
    "axs[0].plot(range(d),new_cases, label='Casos diários suaves')\n",
    "axs[0].plot(range(d),new_deaths,label='Mortes diárias suaves')\n",
    "axs[0].grid(True)\n",
    "axs[0].legend()\n",
    "\n",
    "axs[1].plot(range(d),list(spain[\"total_cases\"])[9:],'.',label='Casos totais reais')\n",
    "axs[1].plot(range(d),list(spain[\"total_deaths\"])[9:],'.',label='Mortes totais reais')\n",
    "axs[1].plot(range(d),total_cases, label='Casos totais')\n",
    "axs[1].plot(range(d),total_deaths,label='Mortes totais')\n",
    "axs[1].grid(True)\n",
    "axs[1].legend()"
   ]
  },
  {
   "cell_type": "code",
   "execution_count": 178,
   "metadata": {},
   "outputs": [],
   "source": [
    "from lmfit import minimize, Parameters, Parameter, report_fit"
   ]
  },
  {
   "cell_type": "code",
   "execution_count": 179,
   "metadata": {},
   "outputs": [],
   "source": [
    "def seiru (x0, t, ps):\n",
    "    \n",
    "    try:       \n",
    "        tau = ps['tau'].value       #<-primeira onda\n",
    "        alpha = ps['alpha'].value\n",
    "        eta = ps['eta'].value\n",
    "        v1 = ps['v1'].value\n",
    "        v2 = ps['v2'].value\n",
    "        \n",
    "        tau2 = ps['tau2'].value     #<-segunda onda\n",
    "        v12 = ps['v12'].value\n",
    "        v22 = ps['v22'].value\n",
    "        \n",
    "        ttau = ps['ttau'].value\n",
    "        tv1 = ps['tv1'].value\n",
    "        tv2 = ps['tv2'].value\n",
    "        \n",
    "    except:\n",
    "        tau, alpha, eta, v1, v2, tau2, v12, v22, ttau, tv1, tv2 = ps\n",
    "        \n",
    "    S,E,I,R,U = x0\n",
    "\n",
    "# Na segunda onda, há  uma diferença na taxa média de contaminação tau\n",
    "# e também pode ter ocorrido mudanças na efetividade de reportar novos \n",
    "# casos, o que altera a proporção entre v1 e v2. \n",
    "\n",
    "    if t> ttau:\n",
    "        tau=tau2\n",
    "    if t> tv1:\n",
    "        v1=v12\n",
    "    if t>tv2:\n",
    "        v2=v22\n",
    "        \n",
    "    return [-tau*S*(I + U),         #dS/dt\n",
    "            tau*S*(I + U) -alpha*E, #dE/dt\n",
    "            alpha*E-(v1+v2)*I,      #dI/dt\n",
    "            v1*I-eta*R,             #dR/dt\n",
    "            v2*I-eta*U              #dU/dt\n",
    "            ]\n",
    "def engine(t, x0, ps):\n",
    "    St = 1 - np.sum(x0)\n",
    "    x0 = np.insert(x0,0,St)\n",
    "    x = odeint(seiru, x0, t, args = (ps,))\n",
    "    return x\n",
    "\n",
    "def res(ps, t, data):\n",
    "    x0 = ps['E'].value, ps['I'].value, ps['R'].value, ps['U'].value\n",
    "    model = engine(t, x0, ps)\n",
    "    return (model[:,3] - data).ravel()      \n"
   ]
  },
  {
   "cell_type": "markdown",
   "metadata": {},
   "source": [
    "## Observando um equilíbrio\n"
   ]
  },
  {
   "cell_type": "code",
   "execution_count": 180,
   "metadata": {},
   "outputs": [
    {
     "data": {
      "image/png": "[encoded data removed]",
      "text/plain": [
       "<Figure size 1200x560 with 1 Axes>"
      ]
     },
     "metadata": {},
     "output_type": "display_data"
    }
   ],
   "source": [
    "t=range(d)\n",
    "x0 = np.array([0.002*10^(-6),0.002*10^(-6),0.002*10^(-6),0.002*10^(-6)])\n",
    "tau, alpha, eta, v1, v2 , tau2, v12, v22, ttau, tv1, tv2= [0.75, 1, 0.1, 0.017, 0.15, 0.1,0.005,0.027, 150, 100,100]\n",
    "params = np.array([tau, alpha, eta, v1, v2 , tau2, v12, v22, ttau, tv1, tv2])\n",
    "modelo = engine(t, x0, params)\n",
    "plt.figure(num=None, figsize=(15,7), dpi=80, facecolor='w', edgecolor='k')\n",
    "for i in range(5):\n",
    "    plt.plot(modelo[:,i])  \n",
    "plt.show()"
   ]
  },
  {
   "cell_type": "code",
   "execution_count": 188,
   "metadata": {},
   "outputs": [],
   "source": [
    "params = Parameters()\n",
    "\n",
    "params.add('E', value=.0, min=0, max=1,vary= False )\n",
    "params.add('I', value=.01, min=0, max=1, vary= False)\n",
    "params.add('R', value=.0, min=0, max=1, vary= False)\n",
    "params.add('U', value=.0, min=0, max=1, vary= False)\n",
    "\n",
    "params.add('tau', value=0.2, min=0, max=1)\n",
    "params.add('alpha', value=0.5, min=0, max=1)\n",
    "params.add('eta', value=0.5, min=0, max=1)\n",
    "params.add('v1', value=0.5, min=0, max=1)\n",
    "params.add('v2', value=0.5, min=0, max=1)\n",
    "\n",
    "params.add('tau2', value=0.2, min=0, max=1)\n",
    "params.add('v12', value=0.5, min=0, max=1)\n",
    "params.add('v22', value=0.5, min=0, max=1)\n",
    "params.add('ttau', value=100, min=90, max=150)\n",
    "params.add('tv1', value=100, min=90, max=150)\n",
    "params.add('tv2', value=100, min=90, max=150)\n",
    "\n",
    "result = minimize(res, params, args = (t, data), method= 'leastsq')\n"
   ]
  },
  {
   "cell_type": "code",
   "execution_count": 189,
   "metadata": {},
   "outputs": [
    {
     "data": {
      "text/html": [
       "<html><script type=\"math/tex; mode=display\">\\newcommand{\\Bold}[1]{\\mathbf{#1}}\\verb|Legend|</script></html>"
      ],
      "text/plain": [
       "<matplotlib.legend.Legend object at 0x6fd7bbbda20>"
      ]
     },
     "execution_count": 189,
     "metadata": {},
     "output_type": "execute_result"
    },
    {
     "data": {
      "image/png": "[encoded data removed]",
      "text/plain": [
       "<Figure size 1200x560 with 1 Axes>"
      ]
     },
     "metadata": {},
     "output_type": "display_data"
    }
   ],
   "source": [
    "final = data + result.residual.reshape(data.shape)\n",
    "\n",
    "plt.figure(num=None, figsize=(15, 7), dpi=80, facecolor='w', edgecolor='k')\n",
    "plt.plot(range(d), data, 'o',label='Dados reais')\n",
    "plt.plot(range(d), final, '-', label='Dados encaixados', linewidth=2)\n",
    "plt.grid(True)\n",
    "plt.legend()"
   ]
  },
  {
   "cell_type": "code",
   "execution_count": 44,
   "metadata": {},
   "outputs": [
    {
     "data": {
      "text/html": [
       "<html><script type=\"math/tex; mode=display\">\\newcommand{\\Bold}[1]{\\mathbf{#1}}\\begin{array}{l}\n",
       "\\verb|[[8.00000000e-01|\\phantom{\\verb!x!}\\verb|2.00000000e-01|\\phantom{\\verb!x!}\\verb|0.00000000e+00|\\phantom{\\verb!x!}\\verb|0.00000000e+00|\\\\\n",
       "\\phantom{\\verb!xx!}\\verb|0.00000000e+00]|\\\\\n",
       "\\phantom{\\verb!x!}\\verb|[7.96072454e-01|\\phantom{\\verb!x!}\\verb|1.67201746e-01|\\phantom{\\verb!x!}\\verb|2.28137607e-02|\\phantom{\\verb!x!}\\verb|6.70671592e-03|\\\\\n",
       "\\phantom{\\verb!xx!}\\verb|6.70671592e-03]|\\\\\n",
       "\\phantom{\\verb!x!}\\verb|[7.86839201e-01|\\phantom{\\verb!x!}\\verb|1.45141516e-01|\\phantom{\\verb!x!}\\verb|2.78393240e-02|\\phantom{\\verb!x!}\\verb|1.85787022e-02|\\\\\n",
       "\\phantom{\\verb!xx!}\\verb|1.85787022e-02]|\\\\\n",
       "\\phantom{\\verb!x!}\\verb|[7.74510892e-01|\\phantom{\\verb!x!}\\verb|1.29884005e-01|\\phantom{\\verb!x!}\\verb|2.74093571e-02|\\phantom{\\verb!x!}\\verb|3.01241124e-02|\\\\\n",
       "\\phantom{\\verb!xx!}\\verb|3.01241124e-02]|\\\\\n",
       "\\phantom{\\verb!x!}\\verb|[7.60201657e-01|\\phantom{\\verb!x!}\\verb|1.19190103e-01|\\phantom{\\verb!x!}\\verb|2.56712819e-02|\\phantom{\\verb!x!}\\verb|3.99528440e-02|\\\\\n",
       "\\phantom{\\verb!xx!}\\verb|3.99528440e-02]|\\\\\n",
       "\\phantom{\\verb!x!}\\verb|[7.44554994e-01|\\phantom{\\verb!x!}\\verb|1.11649607e-01|\\phantom{\\verb!x!}\\verb|2.39238028e-02|\\phantom{\\verb!x!}\\verb|4.79812873e-02|\\\\\n",
       "\\phantom{\\verb!xx!}\\verb|4.79812873e-02]|\\\\\n",
       "\\phantom{\\verb!x!}\\verb|[7.27989532e-01|\\phantom{\\verb!x!}\\verb|1.06310827e-01|\\phantom{\\verb!x!}\\verb|2.24990782e-02|\\phantom{\\verb!x!}\\verb|5.44786516e-02|\\\\\n",
       "\\phantom{\\verb!xx!}\\verb|5.44786516e-02]|\\\\\n",
       "\\phantom{\\verb!x!}\\verb|[7.10801577e-01|\\phantom{\\verb!x!}\\verb|1.02505378e-01|\\phantom{\\verb!x!}\\verb|2.14199659e-02|\\phantom{\\verb!x!}\\verb|5.97577095e-02|\\\\\n",
       "\\phantom{\\verb!xx!}\\verb|5.97577095e-02]|\\\\\n",
       "\\phantom{\\verb!x!}\\verb|[6.93212530e-01|\\phantom{\\verb!x!}\\verb|9.97540832e-02|\\phantom{\\verb!x!}\\verb|2.06247275e-02|\\phantom{\\verb!x!}\\verb|6.40868306e-02|\\\\\n",
       "\\phantom{\\verb!xx!}\\verb|6.40868306e-02]|\\\\\n",
       "\\phantom{\\verb!x!}\\verb|[6.75393764e-01|\\phantom{\\verb!x!}\\verb|9.77101542e-02|\\phantom{\\verb!x!}\\verb|2.00402377e-02|\\phantom{\\verb!x!}\\verb|6.76748884e-02|\\\\\n",
       "\\phantom{\\verb!xx!}\\verb|6.76748884e-02]|\\\\\n",
       "\\phantom{\\verb!x!}\\verb|[6.57481298e-01|\\phantom{\\verb!x!}\\verb|9.61218806e-02|\\phantom{\\verb!x!}\\verb|1.96031061e-02|\\phantom{\\verb!x!}\\verb|7.06777588e-02|\\\\\n",
       "\\phantom{\\verb!xx!}\\verb|7.06777588e-02]|\\\\\n",
       "\\phantom{\\verb!x!}\\verb|[6.39585228e-01|\\phantom{\\verb!x!}\\verb|9.48068104e-02|\\phantom{\\verb!x!}\\verb|1.92635654e-02|\\phantom{\\verb!x!}\\verb|7.32093553e-02|\\\\\n",
       "\\phantom{\\verb!xx!}\\verb|7.32093553e-02]|\\\\\n",
       "\\phantom{\\verb!x!}\\verb|[6.21796096e-01|\\phantom{\\verb!x!}\\verb|9.36333869e-02|\\phantom{\\verb!x!}\\verb|1.89841925e-02|\\phantom{\\verb!x!}\\verb|7.53519571e-02|\\\\\n",
       "\\phantom{\\verb!xx!}\\verb|7.53519571e-02]|\\\\\n",
       "\\phantom{\\verb!x!}\\verb|[6.04189300e-01|\\phantom{\\verb!x!}\\verb|9.25076913e-02|\\phantom{\\verb!x!}\\verb|1.87375145e-02|\\phantom{\\verb!x!}\\verb|7.71645727e-02|\\\\\n",
       "\\phantom{\\verb!xx!}\\verb|7.71645727e-02]|\\\\\n",
       "\\phantom{\\verb!x!}\\verb|[5.86828202e-01|\\phantom{\\verb!x!}\\verb|9.13637887e-02|\\phantom{\\verb!x!}\\verb|1.85037152e-02|\\phantom{\\verb!x!}\\verb|7.86893682e-02|\\\\\n",
       "\\phantom{\\verb!xx!}\\verb|7.86893682e-02]|\\\\\n",
       "\\phantom{\\verb!x!}\\verb|[5.69766315e-01|\\phantom{\\verb!x!}\\verb|9.01566666e-02|\\phantom{\\verb!x!}\\verb|1.82688046e-02|\\phantom{\\verb!x!}\\verb|7.99564526e-02|\\\\\n",
       "\\phantom{\\verb!xx!}\\verb|7.99564526e-02]|\\\\\n",
       "\\phantom{\\verb!x!}\\verb|[5.53048883e-01|\\phantom{\\verb!x!}\\verb|8.88569825e-02|\\phantom{\\verb!x!}\\verb|1.80231511e-02|\\phantom{\\verb!x!}\\verb|8.09874781e-02|\\\\\n",
       "\\phantom{\\verb!xx!}\\verb|8.09874781e-02]|\\\\\n",
       "\\phantom{\\verb!x!}\\verb|[5.36714028e-01|\\phantom{\\verb!x!}\\verb|8.74471832e-02|\\phantom{\\verb!x!}\\verb|1.77604315e-02|\\phantom{\\verb!x!}\\verb|8.17982434e-02|\\\\\n",
       "\\phantom{\\verb!xx!}\\verb|8.17982434e-02]|\\\\\n",
       "\\phantom{\\verb!x!}\\verb|[5.20793590e-01|\\phantom{\\verb!x!}\\verb|8.59185938e-02|\\phantom{\\verb!x!}\\verb|1.74767716e-02|\\phantom{\\verb!x!}\\verb|8.24006447e-02|\\\\\n",
       "\\phantom{\\verb!xx!}\\verb|8.24006447e-02]|\\\\\n",
       "\\phantom{\\verb!x!}\\verb|[5.05313790e-01|\\phantom{\\verb!x!}\\verb|8.42692012e-02|\\phantom{\\verb!x!}\\verb|1.71701824e-02|\\phantom{\\verb!x!}\\verb|8.28040537e-02|\\\\\n",
       "\\phantom{\\verb!xx!}\\verb|8.28040537e-02]|\\\\\n",
       "\\phantom{\\verb!x!}\\verb|[4.90295748e-01|\\phantom{\\verb!x!}\\verb|8.25019718e-02|\\phantom{\\verb!x!}\\verb|1.68400535e-02|\\phantom{\\verb!x!}\\verb|8.30163518e-02|\\\\\n",
       "\\phantom{\\verb!xx!}\\verb|8.30163518e-02]|\\\\\n",
       "\\phantom{\\verb!x!}\\verb|[4.75755937e-01|\\phantom{\\verb!x!}\\verb|8.06235367e-02|\\phantom{\\verb!x!}\\verb|1.64868257e-02|\\phantom{\\verb!x!}\\verb|8.30446392e-02|\\\\\n",
       "\\phantom{\\verb!xx!}\\verb|8.30446392e-02]|\\\\\n",
       "\\phantom{\\verb!x!}\\verb|[4.61706570e-01|\\phantom{\\verb!x!}\\verb|7.86431684e-02|\\phantom{\\verb!x!}\\verb|1.61117081e-02|\\phantom{\\verb!x!}\\verb|8.28957421e-02|\\\\\n",
       "\\phantom{\\verb!xx!}\\verb|8.28957421e-02]|\\\\\n",
       "\\phantom{\\verb!x!}\\verb|[4.48155965e-01|\\phantom{\\verb!x!}\\verb|7.65719723e-02|\\phantom{\\verb!x!}\\verb|1.57164585e-02|\\phantom{\\verb!x!}\\verb|8.25765556e-02|\\\\\n",
       "\\phantom{\\verb!xx!}\\verb|8.25765556e-02]|\\\\\n",
       "\\phantom{\\verb!x!}\\verb|[4.35108883e-01|\\phantom{\\verb!x!}\\verb|7.44222377e-02|\\phantom{\\verb!x!}\\verb|1.53032241e-02|\\phantom{\\verb!x!}\\verb|8.20942576e-02|\\\\\n",
       "\\phantom{\\verb!xx!}\\verb|8.20942576e-02]|\\\\\n",
       "\\phantom{\\verb!x!}\\verb|[4.22566897e-01|\\phantom{\\verb!x!}\\verb|7.22069147e-02|\\phantom{\\verb!x!}\\verb|1.48744012e-02|\\phantom{\\verb!x!}\\verb|8.14564286e-02|\\\\\n",
       "\\phantom{\\verb!xx!}\\verb|8.14564286e-02]|\\\\\n",
       "\\phantom{\\verb!x!}\\verb|[4.10528694e-01|\\phantom{\\verb!x!}\\verb|6.99392066e-02|\\phantom{\\verb!x!}\\verb|1.44325316e-02|\\phantom{\\verb!x!}\\verb|8.06711089e-02|\\\\\n",
       "\\phantom{\\verb!xx!}\\verb|8.06711089e-02]|\\\\\n",
       "\\phantom{\\verb!x!}\\verb|[3.98990343e-01|\\phantom{\\verb!x!}\\verb|6.76322417e-02|\\phantom{\\verb!x!}\\verb|1.39802223e-02|\\phantom{\\verb!x!}\\verb|7.97468087e-02|\\\\\n",
       "\\phantom{\\verb!xx!}\\verb|7.97468087e-02]|\\\\\n",
       "\\phantom{\\verb!x!}\\verb|[3.87945674e-01|\\phantom{\\verb!x!}\\verb|6.52987989e-02|\\phantom{\\verb!x!}\\verb|1.35200622e-02|\\phantom{\\verb!x!}\\verb|7.86924700e-02|\\\\\n",
       "\\phantom{\\verb!xx!}\\verb|7.86924700e-02]|\\\\\n",
       "\\phantom{\\verb!x!}\\verb|[3.77386549e-01|\\phantom{\\verb!x!}\\verb|6.29511079e-02|\\phantom{\\verb!x!}\\verb|1.30545823e-02|\\phantom{\\verb!x!}\\verb|7.75174032e-02|\\\\\n",
       "\\phantom{\\verb!xx!}\\verb|7.75174032e-02]|\\\\\n",
       "\\phantom{\\verb!x!}\\verb|[3.67303132e-01|\\phantom{\\verb!x!}\\verb|6.06006985e-02|\\phantom{\\verb!x!}\\verb|1.25862150e-02|\\phantom{\\verb!x!}\\verb|7.62312129e-02|\\\\\n",
       "\\phantom{\\verb!xx!}\\verb|7.62312129e-02]|\\\\\n",
       "\\phantom{\\verb!x!}\\verb|[3.57684154e-01|\\phantom{\\verb!x!}\\verb|5.82582890e-02|\\phantom{\\verb!x!}\\verb|1.21172488e-02|\\phantom{\\verb!x!}\\verb|7.48437229e-02|\\\\\n",
       "\\phantom{\\verb!xx!}\\verb|7.48437229e-02]|\\\\\n",
       "\\phantom{\\verb!x!}\\verb|[3.48517198e-01|\\phantom{\\verb!x!}\\verb|5.59336882e-02|\\phantom{\\verb!x!}\\verb|1.16498010e-02|\\phantom{\\verb!x!}\\verb|7.33648716e-02|\\\\\n",
       "\\phantom{\\verb!xx!}\\verb|7.33648716e-02]|\\\\\n",
       "\\phantom{\\verb!x!}\\verb|[3.39788879e-01|\\phantom{\\verb!x!}\\verb|5.36357869e-02|\\phantom{\\verb!x!}\\verb|1.11858352e-02|\\phantom{\\verb!x!}\\verb|7.18046187e-02|\\\\\n",
       "\\phantom{\\verb!xx!}\\verb|7.18046187e-02]|\\\\\n",
       "\\phantom{\\verb!x!}\\verb|[3.31485081e-01|\\phantom{\\verb!x!}\\verb|5.13725119e-02|\\phantom{\\verb!x!}\\verb|1.07271465e-02|\\phantom{\\verb!x!}\\verb|7.01728515e-02|\\\\\n",
       "\\phantom{\\verb!xx!}\\verb|7.01728515e-02]|\\\\\n",
       "\\phantom{\\verb!x!}\\verb|[3.23591149e-01|\\phantom{\\verb!x!}\\verb|4.91508329e-02|\\phantom{\\verb!x!}\\verb|1.02753063e-02|\\phantom{\\verb!x!}\\verb|6.84793328e-02|\\\\\n",
       "\\phantom{\\verb!xx!}\\verb|6.84793328e-02]|\\\\\n",
       "\\phantom{\\verb!x!}\\verb|[3.16092052e-01|\\phantom{\\verb!x!}\\verb|4.69767844e-02|\\phantom{\\verb!x!}\\verb|9.83167010e-03|\\phantom{\\verb!x!}\\verb|6.67336167e-02|\\\\\n",
       "\\phantom{\\verb!xx!}\\verb|6.67336167e-02]|\\\\\n",
       "\\phantom{\\verb!x!}\\verb|[3.08972546e-01|\\phantom{\\verb!x!}\\verb|4.48554939e-02|\\phantom{\\verb!x!}\\verb|9.39748767e-03|\\phantom{\\verb!x!}\\verb|6.49449208e-02|\\\\\n",
       "\\phantom{\\verb!xx!}\\verb|6.49449208e-02]|\\\\\n",
       "\\phantom{\\verb!x!}\\verb|[3.02217299e-01|\\phantom{\\verb!x!}\\verb|4.27912297e-02|\\phantom{\\verb!x!}\\verb|8.97377581e-03|\\phantom{\\verb!x!}\\verb|6.31221431e-02|\\\\\n",
       "\\phantom{\\verb!xx!}\\verb|6.31221431e-02]|\\\\\n",
       "\\phantom{\\verb!x!}\\verb|[2.95811014e-01|\\phantom{\\verb!x!}\\verb|4.07874486e-02|\\phantom{\\verb!x!}\\verb|8.56139101e-03|\\phantom{\\verb!x!}\\verb|6.12737716e-02|\\\\\n",
       "\\phantom{\\verb!xx!}\\verb|6.12737716e-02]|\\\\\n",
       "\\phantom{\\verb!x!}\\verb|[2.89738523e-01|\\phantom{\\verb!x!}\\verb|3.88468625e-02|\\phantom{\\verb!x!}\\verb|8.16103109e-03|\\phantom{\\verb!x!}\\verb|5.94078556e-02|\\\\\n",
       "\\phantom{\\verb!xx!}\\verb|5.94078556e-02]|\\\\\n",
       "\\phantom{\\verb!x!}\\verb|[2.83984875e-01|\\phantom{\\verb!x!}\\verb|3.69714882e-02|\\phantom{\\verb!x!}\\verb|7.77324074e-03|\\phantom{\\verb!x!}\\verb|5.75319688e-02|\\\\\n",
       "\\phantom{\\verb!xx!}\\verb|5.75319688e-02]|\\\\\n",
       "\\phantom{\\verb!x!}\\verb|[2.78535404e-01|\\phantom{\\verb!x!}\\verb|3.51627177e-02|\\phantom{\\verb!x!}\\verb|7.39842960e-03|\\phantom{\\verb!x!}\\verb|5.56531897e-02|\\\\\n",
       "\\phantom{\\verb!xx!}\\verb|5.56531897e-02]|\\\\\n",
       "\\phantom{\\verb!x!}\\verb|[2.73375787e-01|\\phantom{\\verb!x!}\\verb|3.34213787e-02|\\phantom{\\verb!x!}\\verb|7.03688146e-03|\\phantom{\\verb!x!}\\verb|5.37780839e-02|\\\\\n",
       "\\phantom{\\verb!xx!}\\verb|5.37780839e-02]|\\\\\n",
       "\\phantom{\\verb!x!}\\verb|[2.68492090e-01|\\phantom{\\verb!x!}\\verb|3.17477920e-02|\\phantom{\\verb!x!}\\verb|6.68876689e-03|\\phantom{\\verb!x!}\\verb|5.19126968e-02|\\\\\n",
       "\\phantom{\\verb!xx!}\\verb|5.19126968e-02]|\\\\\n",
       "\\phantom{\\verb!x!}\\verb|[2.63870809e-01|\\phantom{\\verb!x!}\\verb|3.01418249e-02|\\phantom{\\verb!x!}\\verb|6.35415401e-03|\\phantom{\\verb!x!}\\verb|5.00625442e-02|\\\\\n",
       "\\phantom{\\verb!xx!}\\verb|5.00625442e-02]|\\\\\n",
       "\\phantom{\\verb!x!}\\verb|[2.59498892e-01|\\phantom{\\verb!x!}\\verb|2.86029663e-02|\\phantom{\\verb!x!}\\verb|6.03302266e-03|\\phantom{\\verb!x!}\\verb|4.82326264e-02|\\\\\n",
       "\\phantom{\\verb!xx!}\\verb|4.82326264e-02]|\\\\\n",
       "\\phantom{\\verb!x!}\\verb|[2.55363755e-01|\\phantom{\\verb!x!}\\verb|2.71303753e-02|\\phantom{\\verb!x!}\\verb|5.72527499e-03|\\phantom{\\verb!x!}\\verb|4.64274416e-02|\\\\\n",
       "\\phantom{\\verb!xx!}\\verb|4.64274416e-02]|\\\\\n",
       "\\phantom{\\verb!x!}\\verb|[2.51453297e-01|\\phantom{\\verb!x!}\\verb|2.57229227e-02|\\phantom{\\verb!x!}\\verb|5.43074744e-03|\\phantom{\\verb!x!}\\verb|4.46509920e-02|\\\\\n",
       "\\phantom{\\verb!xx!}\\verb|4.46509920e-02]|\\\\\n",
       "\\phantom{\\verb!x!}\\verb|[2.47755909e-01|\\phantom{\\verb!x!}\\verb|2.43792412e-02|\\phantom{\\verb!x!}\\verb|5.14922146e-03|\\phantom{\\verb!x!}\\verb|4.29068037e-02|\\\\\n",
       "\\phantom{\\verb!xx!}\\verb|4.29068037e-02]|\\\\\n",
       "\\phantom{\\verb!x!}\\verb|[2.44260472e-01|\\phantom{\\verb!x!}\\verb|2.30977635e-02|\\phantom{\\verb!x!}\\verb|4.88043000e-03|\\phantom{\\verb!x!}\\verb|4.11979427e-02|\\\\\n",
       "\\phantom{\\verb!xx!}\\verb|4.11979427e-02]|\\\\\n",
       "\\phantom{\\verb!x!}\\verb|[2.40956355e-01|\\phantom{\\verb!x!}\\verb|2.18767663e-02|\\phantom{\\verb!x!}\\verb|4.62406152e-03|\\phantom{\\verb!x!}\\verb|3.95270455e-02|\\\\\n",
       "\\phantom{\\verb!xx!}\\verb|3.95270455e-02]|\\\\\n",
       "\\phantom{\\verb!x!}\\verb|[2.37833416e-01|\\phantom{\\verb!x!}\\verb|2.07144248e-02|\\phantom{\\verb!x!}\\verb|4.37977193e-03|\\phantom{\\verb!x!}\\verb|3.78963461e-02|\\\\\n",
       "\\phantom{\\verb!xx!}\\verb|3.78963461e-02]|\\\\\n",
       "\\phantom{\\verb!x!}\\verb|[2.34881978e-01|\\phantom{\\verb!x!}\\verb|1.96087936e-02|\\phantom{\\verb!x!}\\verb|4.14718196e-03|\\phantom{\\verb!x!}\\verb|3.63076981e-02|\\\\\n",
       "\\phantom{\\verb!xx!}\\verb|3.63076981e-02]|\\\\\n",
       "\\phantom{\\verb!x!}\\verb|[2.32092833e-01|\\phantom{\\verb!x!}\\verb|1.85578639e-02|\\phantom{\\verb!x!}\\verb|3.92592674e-03|\\phantom{\\verb!x!}\\verb|3.47625853e-02|\\\\\n",
       "\\phantom{\\verb!xx!}\\verb|3.47625853e-02]|\\\\\n",
       "\\phantom{\\verb!x!}\\verb|[2.29457220e-01|\\phantom{\\verb!x!}\\verb|1.75595930e-02|\\phantom{\\verb!x!}\\verb|3.71560786e-03|\\phantom{\\verb!x!}\\verb|3.32621643e-02|\\\\\n",
       "\\phantom{\\verb!xx!}\\verb|3.32621643e-02]|\\\\\n",
       "\\phantom{\\verb!x!}\\verb|[2.26966813e-01|\\phantom{\\verb!x!}\\verb|1.66119145e-02|\\phantom{\\verb!x!}\\verb|3.51581560e-03|\\phantom{\\verb!x!}\\verb|3.18072922e-02|\\\\\n",
       "\\phantom{\\verb!xx!}\\verb|3.18072922e-02]|\\\\\n",
       "\\phantom{\\verb!x!}\\verb|[2.24613711e-01|\\phantom{\\verb!x!}\\verb|1.57127572e-02|\\phantom{\\verb!x!}\\verb|3.32613926e-03|\\phantom{\\verb!x!}\\verb|3.03985460e-02|\\\\\n",
       "\\phantom{\\verb!xx!}\\verb|3.03985460e-02]|\\\\\n",
       "\\phantom{\\verb!x!}\\verb|[2.22390416e-01|\\phantom{\\verb!x!}\\verb|1.48600606e-02|\\phantom{\\verb!x!}\\verb|3.14616431e-03|\\phantom{\\verb!x!}\\verb|2.90362517e-02|\\\\\n",
       "\\phantom{\\verb!xx!}\\verb|2.90362517e-02]|\\\\\n",
       "\\phantom{\\verb!x!}\\verb|[2.20289819e-01|\\phantom{\\verb!x!}\\verb|1.40517874e-02|\\phantom{\\verb!x!}\\verb|2.97548019e-03|\\phantom{\\verb!x!}\\verb|2.77205055e-02|\\\\\n",
       "\\phantom{\\verb!xx!}\\verb|2.77205055e-02]|\\\\\n",
       "\\phantom{\\verb!x!}\\verb|[2.18305187e-01|\\phantom{\\verb!x!}\\verb|1.32859342e-02|\\phantom{\\verb!x!}\\verb|2.81368099e-03|\\phantom{\\verb!x!}\\verb|2.64511993e-02|\\\\\n",
       "\\phantom{\\verb!xx!}\\verb|2.64511993e-02]|\\\\\n",
       "\\phantom{\\verb!x!}\\verb|[2.16430145e-01|\\phantom{\\verb!x!}\\verb|1.25605403e-02|\\phantom{\\verb!x!}\\verb|2.66036706e-03|\\phantom{\\verb!x!}\\verb|2.52280407e-02|\\\\\n",
       "\\phantom{\\verb!xx!}\\verb|2.52280407e-02]|\\\\\n",
       "\\phantom{\\verb!x!}\\verb|[2.14658647e-01|\\phantom{\\verb!x!}\\verb|1.18736931e-02|\\phantom{\\verb!x!}\\verb|2.51514698e-03|\\phantom{\\verb!x!}\\verb|2.40505811e-02|\\\\\n",
       "\\phantom{\\verb!xx!}\\verb|2.40505811e-02]|\\\\\n",
       "\\phantom{\\verb!x!}\\verb|[2.12984980e-01|\\phantom{\\verb!x!}\\verb|1.12235358e-02|\\phantom{\\verb!x!}\\verb|2.37763857e-03|\\phantom{\\verb!x!}\\verb|2.29182263e-02|\\\\\n",
       "\\phantom{\\verb!xx!}\\verb|2.29182263e-02]|\\\\\n",
       "\\phantom{\\verb!x!}\\verb|[2.11403729e-01|\\phantom{\\verb!x!}\\verb|1.06082688e-02|\\phantom{\\verb!x!}\\verb|2.24747092e-03|\\phantom{\\verb!x!}\\verb|2.18302636e-02|\\\\\n",
       "\\phantom{\\verb!xx!}\\verb|2.18302636e-02]|\\\\\n",
       "\\phantom{\\verb!x!}\\verb|[2.09909791e-01|\\phantom{\\verb!x!}\\verb|1.00261565e-02|\\phantom{\\verb!x!}\\verb|2.12428614e-03|\\phantom{\\verb!x!}\\verb|2.07858653e-02|\\\\\n",
       "\\phantom{\\verb!xx!}\\verb|2.07858653e-02]|\\\\\n",
       "\\phantom{\\verb!x!}\\verb|[2.08498331e-01|\\phantom{\\verb!x!}\\verb|9.47552877e-03|\\phantom{\\verb!x!}\\verb|2.00773641e-03|\\phantom{\\verb!x!}\\verb|1.97841174e-02|\\\\\n",
       "\\phantom{\\verb!xx!}\\verb|1.97841174e-02]|\\\\\n",
       "\\phantom{\\verb!x!}\\verb|[2.07164796e-01|\\phantom{\\verb!x!}\\verb|8.95478153e-03|\\phantom{\\verb!x!}\\verb|1.89748575e-03|\\phantom{\\verb!x!}\\verb|1.88240257e-02|\\\\\n",
       "\\phantom{\\verb!xx!}\\verb|1.88240257e-02]|\\\\\n",
       "\\phantom{\\verb!x!}\\verb|[2.05904863e-01|\\phantom{\\verb!x!}\\verb|8.46236855e-03|\\phantom{\\verb!x!}\\verb|1.79321134e-03|\\phantom{\\verb!x!}\\verb|1.79045466e-02|\\\\\n",
       "\\phantom{\\verb!xx!}\\verb|1.79045466e-02]|\\\\\n",
       "\\phantom{\\verb!x!}\\verb|[2.04714428e-01|\\phantom{\\verb!x!}\\verb|7.99680663e-03|\\phantom{\\verb!x!}\\verb|1.69460876e-03|\\phantom{\\verb!x!}\\verb|1.70245811e-02|\\\\\n",
       "\\phantom{\\verb!xx!}\\verb|1.70245811e-02]|\\\\\n",
       "\\phantom{\\verb!x!}\\verb|[2.03589714e-01|\\phantom{\\verb!x!}\\verb|7.55670785e-03|\\phantom{\\verb!x!}\\verb|1.60139226e-03|\\phantom{\\verb!x!}\\verb|1.61829729e-02|\\\\\n",
       "\\phantom{\\verb!xx!}\\verb|1.61829729e-02]|\\\\\n",
       "\\phantom{\\verb!x!}\\verb|[2.02527010e-01|\\phantom{\\verb!x!}\\verb|7.14070585e-03|\\phantom{\\verb!x!}\\verb|1.51327370e-03|\\phantom{\\verb!x!}\\verb|1.53785650e-02|\\\\\n",
       "\\phantom{\\verb!xx!}\\verb|1.53785650e-02]|\\\\\n",
       "\\phantom{\\verb!x!}\\verb|[2.01522902e-01|\\phantom{\\verb!x!}\\verb|6.74752369e-03|\\phantom{\\verb!x!}\\verb|1.42996973e-03|\\phantom{\\verb!x!}\\verb|1.46101747e-02|\\\\\n",
       "\\phantom{\\verb!xx!}\\verb|1.46101747e-02]|\\\\\n",
       "\\phantom{\\verb!x!}\\verb|[2.00574141e-01|\\phantom{\\verb!x!}\\verb|6.37593813e-03|\\phantom{\\verb!x!}\\verb|1.35123297e-03|\\phantom{\\verb!x!}\\verb|1.38765961e-02|\\\\\n",
       "\\phantom{\\verb!xx!}\\verb|1.38765961e-02]|\\\\\n",
       "\\phantom{\\verb!x!}\\verb|[1.99677660e-01|\\phantom{\\verb!x!}\\verb|6.02478661e-03|\\phantom{\\verb!x!}\\verb|1.27682645e-03|\\phantom{\\verb!x!}\\verb|1.31766188e-02|\\\\\n",
       "\\phantom{\\verb!xx!}\\verb|1.31766188e-02]|\\\\\n",
       "\\phantom{\\verb!x!}\\verb|[1.98830561e-01|\\phantom{\\verb!x!}\\verb|5.69296368e-03|\\phantom{\\verb!x!}\\verb|1.20650782e-03|\\phantom{\\verb!x!}\\verb|1.25090433e-02|\\\\\n",
       "\\phantom{\\verb!xx!}\\verb|1.25090433e-02]|\\\\\n",
       "\\phantom{\\verb!x!}\\verb|[1.98030112e-01|\\phantom{\\verb!x!}\\verb|5.37942101e-03|\\phantom{\\verb!x!}\\verb|1.14005960e-03|\\phantom{\\verb!x!}\\verb|1.18726701e-02|\\\\\n",
       "\\phantom{\\verb!xx!}\\verb|1.18726701e-02]|\\\\\n",
       "\\phantom{\\verb!x!}\\verb|[1.97273732e-01|\\phantom{\\verb!x!}\\verb|5.08316291e-03|\\phantom{\\verb!x!}\\verb|1.07727159e-03|\\phantom{\\verb!x!}\\verb|1.12663133e-02|\\\\\n",
       "\\phantom{\\verb!xx!}\\verb|1.12663133e-02]|\\\\\n",
       "\\phantom{\\verb!x!}\\verb|[1.96558982e-01|\\phantom{\\verb!x!}\\verb|4.80324508e-03|\\phantom{\\verb!x!}\\verb|1.01794462e-03|\\phantom{\\verb!x!}\\verb|1.06888021e-02|\\\\\n",
       "\\phantom{\\verb!xx!}\\verb|1.06888021e-02]|\\\\\n",
       "\\phantom{\\verb!x!}\\verb|[1.95883556e-01|\\phantom{\\verb!x!}\\verb|4.53877170e-03|\\phantom{\\verb!x!}\\verb|9.61889441e-04|\\phantom{\\verb!x!}\\verb|1.01389852e-02|\\\\\n",
       "\\phantom{\\verb!xx!}\\verb|1.01389852e-02]|\\\\\n",
       "\\phantom{\\verb!x!}\\verb|[1.95245281e-01|\\phantom{\\verb!x!}\\verb|4.28889518e-03|\\phantom{\\verb!x!}\\verb|9.08926822e-04|\\phantom{\\verb!x!}\\verb|9.61573421e-03|\\\\\n",
       "\\phantom{\\verb!xx!}\\verb|9.61573421e-03]|\\\\\n",
       "\\phantom{\\verb!x!}\\verb|[1.94642101e-01|\\phantom{\\verb!x!}\\verb|4.05281165e-03|\\phantom{\\verb!x!}\\verb|8.58886686e-04|\\phantom{\\verb!x!}\\verb|9.11794323e-03|\\\\\n",
       "\\phantom{\\verb!xx!}\\verb|9.11794323e-03]|\\\\\n",
       "\\phantom{\\verb!x!}\\verb|[1.94072074e-01|\\phantom{\\verb!x!}\\verb|3.82976186e-03|\\phantom{\\verb!x!}\\verb|8.11608149e-04|\\phantom{\\verb!x!}\\verb|8.64453435e-03|\\\\\n",
       "\\phantom{\\verb!xx!}\\verb|8.64453435e-03]|\\\\\n",
       "\\phantom{\\verb!x!}\\verb|[1.93533381e-01|\\phantom{\\verb!x!}\\verb|3.61903147e-03|\\phantom{\\verb!x!}\\verb|7.66939818e-04|\\phantom{\\verb!x!}\\verb|8.19445842e-03|\\\\\n",
       "\\phantom{\\verb!xx!}\\verb|8.19445842e-03]|\\\\\n",
       "\\phantom{\\verb!x!}\\verb|[1.93024285e-01|\\phantom{\\verb!x!}\\verb|3.41993651e-03|\\phantom{\\verb!x!}\\verb|7.24737229e-04|\\phantom{\\verb!x!}\\verb|7.76669633e-03|\\\\\n",
       "\\phantom{\\verb!xx!}\\verb|7.76669633e-03]|\\\\\n",
       "\\phantom{\\verb!x!}\\verb|[1.92543153e-01|\\phantom{\\verb!x!}\\verb|3.23183316e-03|\\phantom{\\verb!x!}\\verb|6.84865022e-04|\\phantom{\\verb!x!}\\verb|7.36025883e-03|\\\\\n",
       "\\phantom{\\verb!xx!}\\verb|7.36025883e-03]|\\\\\n",
       "\\phantom{\\verb!x!}\\verb|[1.92088442e-01|\\phantom{\\verb!x!}\\verb|3.05411347e-03|\\phantom{\\verb!x!}\\verb|6.47196245e-04|\\phantom{\\verb!x!}\\verb|6.97418724e-03|\\\\\n",
       "\\phantom{\\verb!xx!}\\verb|6.97418724e-03]|\\\\\n",
       "\\phantom{\\verb!x!}\\verb|[1.91658695e-01|\\phantom{\\verb!x!}\\verb|2.88620278e-03|\\phantom{\\verb!x!}\\verb|6.11609789e-04|\\phantom{\\verb!x!}\\verb|6.60755489e-03|\\\\\n",
       "\\phantom{\\verb!xx!}\\verb|6.60755489e-03]|\\\\\n",
       "\\phantom{\\verb!x!}\\verb|[1.91252537e-01|\\phantom{\\verb!x!}\\verb|2.72755932e-03|\\phantom{\\verb!x!}\\verb|5.77990356e-04|\\phantom{\\verb!x!}\\verb|6.25946729e-03|\\\\\n",
       "\\phantom{\\verb!xx!}\\verb|6.25946729e-03]|\\\\\n",
       "\\phantom{\\verb!x!}\\verb|[1.90868666e-01|\\phantom{\\verb!x!}\\verb|2.57766921e-03|\\phantom{\\verb!x!}\\verb|5.46225126e-04|\\phantom{\\verb!x!}\\verb|5.92906491e-03|\\\\\n",
       "\\phantom{\\verb!xx!}\\verb|5.92906491e-03]|\\\\\n",
       "\\phantom{\\verb!x!}\\verb|[1.90505856e-01|\\phantom{\\verb!x!}\\verb|2.43604802e-03|\\phantom{\\verb!x!}\\verb|5.16206742e-04|\\phantom{\\verb!x!}\\verb|5.61552051e-03|\\\\\n",
       "\\phantom{\\verb!xx!}\\verb|5.61552051e-03]|\\\\\n",
       "\\phantom{\\verb!x!}\\verb|[1.90162947e-01|\\phantom{\\verb!x!}\\verb|2.30223736e-03|\\phantom{\\verb!x!}\\verb|4.87835144e-04|\\phantom{\\verb!x!}\\verb|5.31803739e-03|\\\\\n",
       "\\phantom{\\verb!xx!}\\verb|5.31803739e-03]|\\\\\n",
       "\\phantom{\\verb!x!}\\verb|[1.89838844e-01|\\phantom{\\verb!x!}\\verb|2.17580425e-03|\\phantom{\\verb!x!}\\verb|4.61039434e-04|\\phantom{\\verb!x!}\\verb|5.03583727e-03|\\\\\n",
       "\\phantom{\\verb!xx!}\\verb|5.03583727e-03]|\\\\\n",
       "\\phantom{\\verb!x!}\\verb|[1.89532511e-01|\\phantom{\\verb!x!}\\verb|2.05634031e-03|\\phantom{\\verb!x!}\\verb|4.35720177e-04|\\phantom{\\verb!x!}\\verb|4.76819052e-03|\\\\\n",
       "\\phantom{\\verb!xx!}\\verb|4.76819052e-03]|\\\\\n",
       "\\phantom{\\verb!x!}\\verb|[1.89242972e-01|\\phantom{\\verb!x!}\\verb|1.94345965e-03|\\phantom{\\verb!x!}\\verb|4.11796529e-04|\\phantom{\\verb!x!}\\verb|4.51439063e-03|\\\\\n",
       "\\phantom{\\verb!xx!}\\verb|4.51439063e-03]|\\\\\n",
       "\\phantom{\\verb!x!}\\verb|[1.88969302e-01|\\phantom{\\verb!x!}\\verb|1.83679763e-03|\\phantom{\\verb!x!}\\verb|3.89191290e-04|\\phantom{\\verb!x!}\\verb|4.27376087e-03|\\\\\n",
       "\\phantom{\\verb!xx!}\\verb|4.27376087e-03]|\\\\\n",
       "\\phantom{\\verb!x!}\\verb|[1.88710630e-01|\\phantom{\\verb!x!}\\verb|1.73600996e-03|\\phantom{\\verb!x!}\\verb|3.67831282e-04|\\phantom{\\verb!x!}\\verb|4.04565357e-03|\\\\\n",
       "\\phantom{\\verb!xx!}\\verb|4.04565357e-03]|\\\\\n",
       "\\phantom{\\verb!x!}\\verb|[1.88466130e-01|\\phantom{\\verb!x!}\\verb|1.64077150e-03|\\phantom{\\verb!x!}\\verb|3.47647642e-04|\\phantom{\\verb!x!}\\verb|3.82944905e-03|\\\\\n",
       "\\phantom{\\verb!xx!}\\verb|3.82944905e-03]|\\\\\n",
       "\\phantom{\\verb!x!}\\verb|[1.88235025e-01|\\phantom{\\verb!x!}\\verb|1.55077524e-03|\\phantom{\\verb!x!}\\verb|3.28575264e-04|\\phantom{\\verb!x!}\\verb|3.62455499e-03|\\\\\n",
       "\\phantom{\\verb!xx!}\\verb|3.62455499e-03]|\\\\\n",
       "\\phantom{\\verb!x!}\\verb|[1.88016578e-01|\\phantom{\\verb!x!}\\verb|1.46573100e-03|\\phantom{\\verb!x!}\\verb|3.10552613e-04|\\phantom{\\verb!x!}\\verb|3.43040530e-03|\\\\\n",
       "\\phantom{\\verb!xx!}\\verb|3.43040530e-03]|\\\\\n",
       "\\phantom{\\verb!x!}\\verb|[1.87810094e-01|\\phantom{\\verb!x!}\\verb|1.38536454e-03|\\phantom{\\verb!x!}\\verb|2.93521747e-04|\\phantom{\\verb!x!}\\verb|3.24645864e-03|\\\\\n",
       "\\phantom{\\verb!xx!}\\verb|3.24645864e-03]|\\\\\n",
       "\\phantom{\\verb!x!}\\verb|[1.87614914e-01|\\phantom{\\verb!x!}\\verb|1.30941708e-03|\\phantom{\\verb!x!}\\verb|2.77427982e-04|\\phantom{\\verb!x!}\\verb|3.07219881e-03|\\\\\n",
       "\\phantom{\\verb!xx!}\\verb|3.07219881e-03]|\\\\\n",
       "\\phantom{\\verb!x!}\\verb|[1.87430423e-01|\\phantom{\\verb!x!}\\verb|1.23764656e-03|\\phantom{\\verb!x!}\\verb|2.62220208e-04|\\phantom{\\verb!x!}\\verb|2.90713651e-03|\\\\\n",
       "\\phantom{\\verb!xx!}\\verb|2.90713651e-03]|\\\\\n",
       "\\phantom{\\verb!x!}\\verb|[1.87256032e-01|\\phantom{\\verb!x!}\\verb|1.16982089e-03|\\phantom{\\verb!x!}\\verb|2.47848860e-04|\\phantom{\\verb!x!}\\verb|2.75080169e-03|\\\\\n",
       "\\phantom{\\verb!xx!}\\verb|2.75080169e-03]|\\\\\n",
       "\\phantom{\\verb!x!}\\verb|[1.87091187e-01|\\phantom{\\verb!x!}\\verb|1.10572241e-03|\\phantom{\\verb!x!}\\verb|2.34267257e-04|\\phantom{\\verb!x!}\\verb|2.60274847e-03|\\\\\n",
       "\\phantom{\\verb!xx!}\\verb|2.60274847e-03]|\\\\\n",
       "\\phantom{\\verb!x!}\\verb|[1.86935364e-01|\\phantom{\\verb!x!}\\verb|1.04514493e-03|\\phantom{\\verb!x!}\\verb|2.21430708e-04|\\phantom{\\verb!x!}\\verb|2.46255156e-03|\\\\\n",
       "\\phantom{\\verb!xx!}\\verb|2.46255156e-03]|\\\\\n",
       "\\phantom{\\verb!x!}\\verb|[1.86788067e-01|\\phantom{\\verb!x!}\\verb|9.87893773e-04|\\phantom{\\verb!x!}\\verb|2.09297015e-04|\\phantom{\\verb!x!}\\verb|2.32980562e-03|\\\\\n",
       "\\phantom{\\verb!xx!}\\verb|2.32980562e-03]|\\\\\n",
       "\\phantom{\\verb!x!}\\verb|[1.86648834e-01|\\phantom{\\verb!x!}\\verb|9.33787668e-04|\\phantom{\\verb!x!}\\verb|1.97827846e-04|\\phantom{\\verb!x!}\\verb|2.20412901e-03|\\\\\n",
       "\\phantom{\\verb!xx!}\\verb|2.20412901e-03]|\\\\\n",
       "\\phantom{\\verb!x!}\\verb|[1.86517219e-01|\\phantom{\\verb!x!}\\verb|8.82651327e-04|\\phantom{\\verb!x!}\\verb|1.86991227e-04|\\phantom{\\verb!x!}\\verb|2.08514873e-03|\\\\\n",
       "\\phantom{\\verb!xx!}\\verb|2.08514873e-03]|\\\\\n",
       "\\phantom{\\verb!x!}\\verb|[1.86392804e-01|\\phantom{\\verb!x!}\\verb|8.34321328e-04|\\phantom{\\verb!x!}\\verb|1.76755067e-04|\\phantom{\\verb!x!}\\verb|1.97251592e-03|\\\\\n",
       "\\phantom{\\verb!xx!}\\verb|1.97251592e-03]|\\\\\n",
       "\\phantom{\\verb!x!}\\verb|[1.86275195e-01|\\phantom{\\verb!x!}\\verb|7.88643254e-04|\\phantom{\\verb!x!}\\verb|1.67076226e-04|\\phantom{\\verb!x!}\\verb|1.86590451e-03|\\\\\n",
       "\\phantom{\\verb!xx!}\\verb|1.86590451e-03]|\\\\\n",
       "\\phantom{\\verb!x!}\\verb|[1.86164010e-01|\\phantom{\\verb!x!}\\verb|7.45467370e-04|\\phantom{\\verb!x!}\\verb|1.57928514e-04|\\phantom{\\verb!x!}\\verb|1.76498896e-03|\\\\\n",
       "\\phantom{\\verb!xx!}\\verb|1.76498896e-03]|\\\\\n",
       "\\phantom{\\verb!x!}\\verb|[1.86058915e-01|\\phantom{\\verb!x!}\\verb|7.04663043e-04|\\phantom{\\verb!x!}\\verb|1.49283194e-04|\\phantom{\\verb!x!}\\verb|1.66948648e-03|\\\\\n",
       "\\phantom{\\verb!xx!}\\verb|1.66948648e-03]|\\\\\n",
       "\\phantom{\\verb!x!}\\verb|[1.85959587e-01|\\phantom{\\verb!x!}\\verb|6.66103716e-04|\\phantom{\\verb!x!}\\verb|1.41113234e-04|\\phantom{\\verb!x!}\\verb|1.57912136e-03|\\\\\n",
       "\\phantom{\\verb!xx!}\\verb|1.57912136e-03]|\\\\\n",
       "\\phantom{\\verb!x!}\\verb|[1.85865676e-01|\\phantom{\\verb!x!}\\verb|6.29652279e-04|\\phantom{\\verb!x!}\\verb|1.33389786e-04|\\phantom{\\verb!x!}\\verb|1.49359380e-03|\\\\\n",
       "\\phantom{\\verb!xx!}\\verb|1.49359380e-03]|\\\\\n",
       "\\phantom{\\verb!x!}\\verb|[1.85776899e-01|\\phantom{\\verb!x!}\\verb|5.95198576e-04|\\phantom{\\verb!x!}\\verb|1.26090011e-04|\\phantom{\\verb!x!}\\verb|1.41266094e-03|\\\\\n",
       "\\phantom{\\verb!xx!}\\verb|1.41266094e-03]|\\\\\n",
       "\\phantom{\\verb!x!}\\verb|[1.85692978e-01|\\phantom{\\verb!x!}\\verb|5.62633523e-04|\\phantom{\\verb!x!}\\verb|1.19190999e-04|\\phantom{\\verb!x!}\\verb|1.33608093e-03|\\\\\n",
       "\\phantom{\\verb!xx!}\\verb|1.33608093e-03]|\\\\\n",
       "\\phantom{\\verb!x!}\\verb|[1.85613645e-01|\\phantom{\\verb!x!}\\verb|5.31852700e-04|\\phantom{\\verb!x!}\\verb|1.12670553e-04|\\phantom{\\verb!x!}\\verb|1.26362167e-03|\\\\\n",
       "\\phantom{\\verb!xx!}\\verb|1.26362167e-03]|\\\\\n",
       "\\phantom{\\verb!x!}\\verb|[1.85538649e-01|\\phantom{\\verb!x!}\\verb|5.02758222e-04|\\phantom{\\verb!x!}\\verb|1.06507306e-04|\\phantom{\\verb!x!}\\verb|1.19506531e-03|\\\\\n",
       "\\phantom{\\verb!xx!}\\verb|1.19506531e-03]|\\\\\n",
       "\\phantom{\\verb!x!}\\verb|[1.85467751e-01|\\phantom{\\verb!x!}\\verb|4.75256644e-04|\\phantom{\\verb!x!}\\verb|1.00680922e-04|\\phantom{\\verb!x!}\\verb|1.13020309e-03|\\\\\n",
       "\\phantom{\\verb!xx!}\\verb|1.13020309e-03]|\\\\\n",
       "\\phantom{\\verb!x!}\\verb|[1.85400727e-01|\\phantom{\\verb!x!}\\verb|4.49260737e-04|\\phantom{\\verb!x!}\\verb|9.51721322e-05|\\phantom{\\verb!x!}\\verb|1.06883943e-03|\\\\\n",
       "\\phantom{\\verb!xx!}\\verb|1.06883943e-03]|\\\\\n",
       "\\phantom{\\verb!x!}\\verb|[1.85337369e-01|\\phantom{\\verb!x!}\\verb|4.24689432e-04|\\phantom{\\verb!x!}\\verb|8.99643241e-05|\\phantom{\\verb!x!}\\verb|1.01079083e-03|\\\\\n",
       "\\phantom{\\verb!xx!}\\verb|1.01079083e-03]|\\\\\n",
       "\\phantom{\\verb!x!}\\verb|[1.85277475e-01|\\phantom{\\verb!x!}\\verb|4.01463757e-04|\\phantom{\\verb!x!}\\verb|8.50458125e-05|\\phantom{\\verb!x!}\\verb|9.55875699e-04|\\\\\n",
       "\\phantom{\\verb!xx!}\\verb|9.55875699e-04]|\\\\\n",
       "\\phantom{\\verb!x!}\\verb|[1.85220855e-01|\\phantom{\\verb!x!}\\verb|3.79509736e-04|\\phantom{\\verb!x!}\\verb|8.03941153e-05|\\phantom{\\verb!x!}\\verb|9.03930192e-04|\\\\\n",
       "\\phantom{\\verb!xx!}\\verb|9.03930192e-04]|\\\\\n",
       "\\phantom{\\verb!x!}\\verb|[1.85167330e-01|\\phantom{\\verb!x!}\\verb|3.58757573e-04|\\phantom{\\verb!x!}\\verb|7.59984512e-05|\\phantom{\\verb!x!}\\verb|8.54793376e-04|\\\\\n",
       "\\phantom{\\verb!xx!}\\verb|8.54793376e-04]|\\\\\n",
       "\\phantom{\\verb!x!}\\verb|[1.85116730e-01|\\phantom{\\verb!x!}\\verb|3.39141353e-04|\\phantom{\\verb!x!}\\verb|7.18425002e-05|\\phantom{\\verb!x!}\\verb|8.08315927e-04|\\\\\n",
       "\\phantom{\\verb!xx!}\\verb|8.08315927e-04]|\\\\\n",
       "\\phantom{\\verb!x!}\\verb|[1.85068895e-01|\\phantom{\\verb!x!}\\verb|3.20598340e-04|\\phantom{\\verb!x!}\\verb|6.79142370e-05|\\phantom{\\verb!x!}\\verb|7.64353634e-04|\\\\\n",
       "\\phantom{\\verb!xx!}\\verb|7.64353634e-04]|\\\\\n",
       "\\phantom{\\verb!x!}\\verb|[1.85023674e-01|\\phantom{\\verb!x!}\\verb|3.03070007e-04|\\phantom{\\verb!x!}\\verb|6.42008705e-05|\\phantom{\\verb!x!}\\verb|7.22772375e-04|\\\\\n",
       "\\phantom{\\verb!xx!}\\verb|7.22772375e-04]|\\\\\n",
       "\\phantom{\\verb!x!}\\verb|[1.84980924e-01|\\phantom{\\verb!x!}\\verb|2.86500778e-04|\\phantom{\\verb!x!}\\verb|6.06907354e-05|\\phantom{\\verb!x!}\\verb|6.83444249e-04|\\\\\n",
       "\\phantom{\\verb!xx!}\\verb|6.83444249e-04]|\\\\\n",
       "\\phantom{\\verb!x!}\\verb|[1.84940524e-01|\\phantom{\\verb!x!}\\verb|2.70843039e-04|\\phantom{\\verb!x!}\\verb|5.73737226e-05|\\phantom{\\verb!x!}\\verb|6.46259482e-04|\\\\\n",
       "\\phantom{\\verb!xx!}\\verb|6.46259482e-04]|\\\\\n",
       "\\phantom{\\verb!x!}\\verb|[1.84902322e-01|\\phantom{\\verb!x!}\\verb|2.56038502e-04|\\phantom{\\verb!x!}\\verb|5.42374492e-05|\\phantom{\\verb!x!}\\verb|6.11083666e-04|\\\\\n",
       "\\phantom{\\verb!xx!}\\verb|6.11083666e-04]|\\\\\n",
       "\\phantom{\\verb!x!}\\verb|[1.84866208e-01|\\phantom{\\verb!x!}\\verb|2.42043822e-04|\\phantom{\\verb!x!}\\verb|5.12727330e-05|\\phantom{\\verb!x!}\\verb|5.77816394e-04|\\\\\n",
       "\\phantom{\\verb!xx!}\\verb|5.77816394e-04]|\\\\\n",
       "\\phantom{\\verb!x!}\\verb|[1.84832065e-01|\\phantom{\\verb!x!}\\verb|2.28814025e-04|\\phantom{\\verb!x!}\\verb|4.84700477e-05|\\phantom{\\verb!x!}\\verb|5.46353448e-04|\\\\\n",
       "\\phantom{\\verb!xx!}\\verb|5.46353448e-04]|\\\\\n",
       "\\phantom{\\verb!x!}\\verb|[1.84799790e-01|\\phantom{\\verb!x!}\\verb|2.16308306e-04|\\phantom{\\verb!x!}\\verb|4.58207774e-05|\\phantom{\\verb!x!}\\verb|5.16599756e-04|\\\\\n",
       "\\phantom{\\verb!xx!}\\verb|5.16599756e-04]|\\\\\n",
       "\\phantom{\\verb!x!}\\verb|[1.84769277e-01|\\phantom{\\verb!x!}\\verb|2.04486324e-04|\\phantom{\\verb!x!}\\verb|4.33163986e-05|\\phantom{\\verb!x!}\\verb|4.88461435e-04|\\\\\n",
       "\\phantom{\\verb!xx!}\\verb|4.88461435e-04]|\\\\\n",
       "\\phantom{\\verb!x!}\\verb|[1.84740432e-01|\\phantom{\\verb!x!}\\verb|1.93310947e-04|\\phantom{\\verb!x!}\\verb|4.09490713e-05|\\phantom{\\verb!x!}\\verb|4.61851952e-04|\\\\\n",
       "\\phantom{\\verb!xx!}\\verb|4.61851952e-04]|\\\\\n",
       "\\phantom{\\verb!x!}\\verb|[1.84713162e-01|\\phantom{\\verb!x!}\\verb|1.82746007e-04|\\phantom{\\verb!x!}\\verb|3.87111786e-05|\\phantom{\\verb!x!}\\verb|4.36686941e-04|\\\\\n",
       "\\phantom{\\verb!xx!}\\verb|4.36686941e-04]|\\\\\n",
       "\\phantom{\\verb!x!}\\verb|[1.84687379e-01|\\phantom{\\verb!x!}\\verb|1.72758246e-04|\\phantom{\\verb!x!}\\verb|3.65957504e-05|\\phantom{\\verb!x!}\\verb|4.12888631e-04|\\\\\n",
       "\\phantom{\\verb!xx!}\\verb|4.12888631e-04]|\\\\\n",
       "\\phantom{\\verb!x!}\\verb|[1.84663006e-01|\\phantom{\\verb!x!}\\verb|1.63316433e-04|\\phantom{\\verb!x!}\\verb|3.45962466e-05|\\phantom{\\verb!x!}\\verb|3.90383897e-04|\\\\\n",
       "\\phantom{\\verb!xx!}\\verb|3.90383897e-04]|\\\\\n",
       "\\phantom{\\verb!x!}\\verb|[1.84639965e-01|\\phantom{\\verb!x!}\\verb|1.54391166e-04|\\phantom{\\verb!x!}\\verb|3.27066024e-05|\\phantom{\\verb!x!}\\verb|3.69103709e-04|\\\\\n",
       "\\phantom{\\verb!xx!}\\verb|3.69103709e-04]|\\\\\n",
       "\\phantom{\\verb!x!}\\verb|[1.84618181e-01|\\phantom{\\verb!x!}\\verb|1.45953249e-04|\\phantom{\\verb!x!}\\verb|3.09209837e-05|\\phantom{\\verb!x!}\\verb|3.48979317e-04|\\\\\n",
       "\\phantom{\\verb!xx!}\\verb|3.48979317e-04]|\\\\\n",
       "\\phantom{\\verb!x!}\\verb|[1.84597588e-01|\\phantom{\\verb!x!}\\verb|1.37976771e-04|\\phantom{\\verb!x!}\\verb|2.92342512e-05|\\phantom{\\verb!x!}\\verb|3.29949484e-04|\\\\\n",
       "\\phantom{\\verb!xx!}\\verb|3.29949484e-04]|\\\\\n",
       "\\phantom{\\verb!x!}\\verb|[1.84578122e-01|\\phantom{\\verb!x!}\\verb|1.30437508e-04|\\phantom{\\verb!x!}\\verb|2.76388645e-05|\\phantom{\\verb!x!}\\verb|3.11958272e-04|\\\\\n",
       "\\phantom{\\verb!xx!}\\verb|3.11958272e-04]|\\\\\n",
       "\\phantom{\\verb!x!}\\verb|[1.84559719e-01|\\phantom{\\verb!x!}\\verb|1.23310394e-04|\\phantom{\\verb!x!}\\verb|2.61213488e-05|\\phantom{\\verb!x!}\\verb|2.94951153e-04|\\\\\n",
       "\\phantom{\\verb!xx!}\\verb|2.94951153e-04]|\\\\\n",
       "\\phantom{\\verb!x!}\\verb|[1.84542322e-01|\\phantom{\\verb!x!}\\verb|1.16572673e-04|\\phantom{\\verb!x!}\\verb|2.46948779e-05|\\phantom{\\verb!x!}\\verb|2.78865633e-04|\\\\\n",
       "\\phantom{\\verb!xx!}\\verb|2.78865633e-04]|\\\\\n",
       "\\phantom{\\verb!x!}\\verb|[1.84525876e-01|\\phantom{\\verb!x!}\\verb|1.10203258e-04|\\phantom{\\verb!x!}\\verb|2.33452481e-05|\\phantom{\\verb!x!}\\verb|2.63656658e-04|\\\\\n",
       "\\phantom{\\verb!xx!}\\verb|2.63656658e-04]|\\\\\n",
       "\\phantom{\\verb!x!}\\verb|[1.84510328e-01|\\phantom{\\verb!x!}\\verb|1.04182027e-04|\\phantom{\\verb!x!}\\verb|2.20678875e-05|\\phantom{\\verb!x!}\\verb|2.49276856e-04|\\\\\n",
       "\\phantom{\\verb!xx!}\\verb|2.49276856e-04]|\\\\\n",
       "\\phantom{\\verb!x!}\\verb|[1.84495629e-01|\\phantom{\\verb!x!}\\verb|9.84896802e-05|\\phantom{\\verb!x!}\\verb|2.08627773e-05|\\phantom{\\verb!x!}\\verb|2.35678683e-04|\\\\\n",
       "\\phantom{\\verb!xx!}\\verb|2.35678683e-04]|\\\\\n",
       "\\phantom{\\verb!x!}\\verb|[1.84481732e-01|\\phantom{\\verb!x!}\\verb|9.31084539e-05|\\phantom{\\verb!x!}\\verb|1.97227400e-05|\\phantom{\\verb!x!}\\verb|2.22821754e-04|\\\\\n",
       "\\phantom{\\verb!xx!}\\verb|2.22821754e-04]|\\\\\n",
       "\\phantom{\\verb!x!}\\verb|[1.84468595e-01|\\phantom{\\verb!x!}\\verb|8.80209943e-05|\\phantom{\\verb!x!}\\verb|1.86451420e-05|\\phantom{\\verb!x!}\\verb|2.10664501e-04|\\\\\n",
       "\\phantom{\\verb!xx!}\\verb|2.10664501e-04]|\\\\\n",
       "\\phantom{\\verb!x!}\\verb|[1.84456179e-01|\\phantom{\\verb!x!}\\verb|8.32130446e-05|\\phantom{\\verb!x!}\\verb|1.76266341e-05|\\phantom{\\verb!x!}\\verb|1.99173311e-04|\\\\\n",
       "\\phantom{\\verb!xx!}\\verb|1.99173311e-04]|\\\\\n",
       "\\phantom{\\verb!x!}\\verb|[1.84444443e-01|\\phantom{\\verb!x!}\\verb|7.86686996e-05|\\phantom{\\verb!x!}\\verb|1.66639514e-05|\\phantom{\\verb!x!}\\verb|1.88310448e-04|\\\\\n",
       "\\phantom{\\verb!xx!}\\verb|1.88310448e-04]|\\\\\n",
       "\\phantom{\\verb!x!}\\verb|[1.84433345e-01|\\phantom{\\verb!x!}\\verb|7.43712777e-05|\\phantom{\\verb!x!}\\verb|1.57536815e-05|\\phantom{\\verb!x!}\\verb|1.78036328e-04|\\\\\n",
       "\\phantom{\\verb!xx!}\\verb|1.78036328e-04]|\\\\\n",
       "\\phantom{\\verb!x!}\\verb|[1.84422853e-01|\\phantom{\\verb!x!}\\verb|7.03087512e-05|\\phantom{\\verb!x!}\\verb|1.48934085e-05|\\phantom{\\verb!x!}\\verb|1.68322335e-04|\\\\\n",
       "\\phantom{\\verb!xx!}\\verb|1.68322335e-04]|\\\\\n",
       "\\phantom{\\verb!x!}\\verb|[1.84412934e-01|\\phantom{\\verb!x!}\\verb|6.64679815e-05|\\phantom{\\verb!x!}\\verb|1.40804787e-05|\\phantom{\\verb!x!}\\verb|1.59137236e-04|\\\\\n",
       "\\phantom{\\verb!xx!}\\verb|1.59137236e-04]|\\\\\n",
       "\\phantom{\\verb!x!}\\verb|[1.84403556e-01|\\phantom{\\verb!x!}\\verb|6.28369768e-05|\\phantom{\\verb!x!}\\verb|1.33125084e-05|\\phantom{\\verb!x!}\\verb|1.50452459e-04|\\\\\n",
       "\\phantom{\\verb!xx!}\\verb|1.50452459e-04]|\\\\\n",
       "\\phantom{\\verb!x!}\\verb|[1.84394691e-01|\\phantom{\\verb!x!}\\verb|5.94045630e-05|\\phantom{\\verb!x!}\\verb|1.25873012e-05|\\phantom{\\verb!x!}\\verb|1.42241337e-04|\\\\\n",
       "\\phantom{\\verb!xx!}\\verb|1.42241337e-04]|\\\\\n",
       "\\phantom{\\verb!x!}\\verb|[1.84386310e-01|\\phantom{\\verb!x!}\\verb|5.61592988e-05|\\phantom{\\verb!x!}\\verb|1.19003811e-05|\\phantom{\\verb!x!}\\verb|1.34477638e-04|\\\\\n",
       "\\phantom{\\verb!xx!}\\verb|1.34477638e-04]]|\n",
       "\\end{array}</script></html>"
      ],
      "text/plain": [
       "array([[8.00000000e-01, 2.00000000e-01, 0.00000000e+00, 0.00000000e+00,\n",
       "        0.00000000e+00],\n",
       "       [7.96072454e-01, 1.67201746e-01, 2.28137607e-02, 6.70671592e-03,\n",
       "        6.70671592e-03],\n",
       "       [7.86839201e-01, 1.45141516e-01, 2.78393240e-02, 1.85787022e-02,\n",
       "        1.85787022e-02],\n",
       "       [7.74510892e-01, 1.29884005e-01, 2.74093571e-02, 3.01241124e-02,\n",
       "        3.01241124e-02],\n",
       "       [7.60201657e-01, 1.19190103e-01, 2.56712819e-02, 3.99528440e-02,\n",
       "        3.99528440e-02],\n",
       "       [7.44554994e-01, 1.11649607e-01, 2.39238028e-02, 4.79812873e-02,\n",
       "        4.79812873e-02],\n",
       "       [7.27989532e-01, 1.06310827e-01, 2.24990782e-02, 5.44786516e-02,\n",
       "        5.44786516e-02],\n",
       "       [7.10801577e-01, 1.02505378e-01, 2.14199659e-02, 5.97577095e-02,\n",
       "        5.97577095e-02],\n",
       "       [6.93212530e-01, 9.97540832e-02, 2.06247275e-02, 6.40868306e-02,\n",
       "        6.40868306e-02],\n",
       "       [6.75393764e-01, 9.77101542e-02, 2.00402377e-02, 6.76748884e-02,\n",
       "        6.76748884e-02],\n",
       "       [6.57481298e-01, 9.61218806e-02, 1.96031061e-02, 7.06777588e-02,\n",
       "        7.06777588e-02],\n",
       "       [6.39585228e-01, 9.48068104e-02, 1.92635654e-02, 7.32093553e-02,\n",
       "        7.32093553e-02],\n",
       "       [6.21796096e-01, 9.36333869e-02, 1.89841925e-02, 7.53519571e-02,\n",
       "        7.53519571e-02],\n",
       "       [6.04189300e-01, 9.25076913e-02, 1.87375145e-02, 7.71645727e-02,\n",
       "        7.71645727e-02],\n",
       "       [5.86828202e-01, 9.13637887e-02, 1.85037152e-02, 7.86893682e-02,\n",
       "        7.86893682e-02],\n",
       "       [5.69766315e-01, 9.01566666e-02, 1.82688046e-02, 7.99564526e-02,\n",
       "        7.99564526e-02],\n",
       "       [5.53048883e-01, 8.88569825e-02, 1.80231511e-02, 8.09874781e-02,\n",
       "        8.09874781e-02],\n",
       "       [5.36714028e-01, 8.74471832e-02, 1.77604315e-02, 8.17982434e-02,\n",
       "        8.17982434e-02],\n",
       "       [5.20793590e-01, 8.59185938e-02, 1.74767716e-02, 8.24006447e-02,\n",
       "        8.24006447e-02],\n",
       "       [5.05313790e-01, 8.42692012e-02, 1.71701824e-02, 8.28040537e-02,\n",
       "        8.28040537e-02],\n",
       "       [4.90295748e-01, 8.25019718e-02, 1.68400535e-02, 8.30163518e-02,\n",
       "        8.30163518e-02],\n",
       "       [4.75755937e-01, 8.06235367e-02, 1.64868257e-02, 8.30446392e-02,\n",
       "        8.30446392e-02],\n",
       "       [4.61706570e-01, 7.86431684e-02, 1.61117081e-02, 8.28957421e-02,\n",
       "        8.28957421e-02],\n",
       "       [4.48155965e-01, 7.65719723e-02, 1.57164585e-02, 8.25765556e-02,\n",
       "        8.25765556e-02],\n",
       "       [4.35108883e-01, 7.44222377e-02, 1.53032241e-02, 8.20942576e-02,\n",
       "        8.20942576e-02],\n",
       "       [4.22566897e-01, 7.22069147e-02, 1.48744012e-02, 8.14564286e-02,\n",
       "        8.14564286e-02],\n",
       "       [4.10528694e-01, 6.99392066e-02, 1.44325316e-02, 8.06711089e-02,\n",
       "        8.06711089e-02],\n",
       "       [3.98990343e-01, 6.76322417e-02, 1.39802223e-02, 7.97468087e-02,\n",
       "        7.97468087e-02],\n",
       "       [3.87945674e-01, 6.52987989e-02, 1.35200622e-02, 7.86924700e-02,\n",
       "        7.86924700e-02],\n",
       "       [3.77386549e-01, 6.29511079e-02, 1.30545823e-02, 7.75174032e-02,\n",
       "        7.75174032e-02],\n",
       "       [3.67303132e-01, 6.06006985e-02, 1.25862150e-02, 7.62312129e-02,\n",
       "        7.62312129e-02],\n",
       "       [3.57684154e-01, 5.82582890e-02, 1.21172488e-02, 7.48437229e-02,\n",
       "        7.48437229e-02],\n",
       "       [3.48517198e-01, 5.59336882e-02, 1.16498010e-02, 7.33648716e-02,\n",
       "        7.33648716e-02],\n",
       "       [3.39788879e-01, 5.36357869e-02, 1.11858352e-02, 7.18046187e-02,\n",
       "        7.18046187e-02],\n",
       "       [3.31485081e-01, 5.13725119e-02, 1.07271465e-02, 7.01728515e-02,\n",
       "        7.01728515e-02],\n",
       "       [3.23591149e-01, 4.91508329e-02, 1.02753063e-02, 6.84793328e-02,\n",
       "        6.84793328e-02],\n",
       "       [3.16092052e-01, 4.69767844e-02, 9.83167010e-03, 6.67336167e-02,\n",
       "        6.67336167e-02],\n",
       "       [3.08972546e-01, 4.48554939e-02, 9.39748767e-03, 6.49449208e-02,\n",
       "        6.49449208e-02],\n",
       "       [3.02217299e-01, 4.27912297e-02, 8.97377581e-03, 6.31221431e-02,\n",
       "        6.31221431e-02],\n",
       "       [2.95811014e-01, 4.07874486e-02, 8.56139101e-03, 6.12737716e-02,\n",
       "        6.12737716e-02],\n",
       "       [2.89738523e-01, 3.88468625e-02, 8.16103109e-03, 5.94078556e-02,\n",
       "        5.94078556e-02],\n",
       "       [2.83984875e-01, 3.69714882e-02, 7.77324074e-03, 5.75319688e-02,\n",
       "        5.75319688e-02],\n",
       "       [2.78535404e-01, 3.51627177e-02, 7.39842960e-03, 5.56531897e-02,\n",
       "        5.56531897e-02],\n",
       "       [2.73375787e-01, 3.34213787e-02, 7.03688146e-03, 5.37780839e-02,\n",
       "        5.37780839e-02],\n",
       "       [2.68492090e-01, 3.17477920e-02, 6.68876689e-03, 5.19126968e-02,\n",
       "        5.19126968e-02],\n",
       "       [2.63870809e-01, 3.01418249e-02, 6.35415401e-03, 5.00625442e-02,\n",
       "        5.00625442e-02],\n",
       "       [2.59498892e-01, 2.86029663e-02, 6.03302266e-03, 4.82326264e-02,\n",
       "        4.82326264e-02],\n",
       "       [2.55363755e-01, 2.71303753e-02, 5.72527499e-03, 4.64274416e-02,\n",
       "        4.64274416e-02],\n",
       "       [2.51453297e-01, 2.57229227e-02, 5.43074744e-03, 4.46509920e-02,\n",
       "        4.46509920e-02],\n",
       "       [2.47755909e-01, 2.43792412e-02, 5.14922146e-03, 4.29068037e-02,\n",
       "        4.29068037e-02],\n",
       "       [2.44260472e-01, 2.30977635e-02, 4.88043000e-03, 4.11979427e-02,\n",
       "        4.11979427e-02],\n",
       "       [2.40956355e-01, 2.18767663e-02, 4.62406152e-03, 3.95270455e-02,\n",
       "        3.95270455e-02],\n",
       "       [2.37833416e-01, 2.07144248e-02, 4.37977193e-03, 3.78963461e-02,\n",
       "        3.78963461e-02],\n",
       "       [2.34881978e-01, 1.96087936e-02, 4.14718196e-03, 3.63076981e-02,\n",
       "        3.63076981e-02],\n",
       "       [2.32092833e-01, 1.85578639e-02, 3.92592674e-03, 3.47625853e-02,\n",
       "        3.47625853e-02],\n",
       "       [2.29457220e-01, 1.75595930e-02, 3.71560786e-03, 3.32621643e-02,\n",
       "        3.32621643e-02],\n",
       "       [2.26966813e-01, 1.66119145e-02, 3.51581560e-03, 3.18072922e-02,\n",
       "        3.18072922e-02],\n",
       "       [2.24613711e-01, 1.57127572e-02, 3.32613926e-03, 3.03985460e-02,\n",
       "        3.03985460e-02],\n",
       "       [2.22390416e-01, 1.48600606e-02, 3.14616431e-03, 2.90362517e-02,\n",
       "        2.90362517e-02],\n",
       "       [2.20289819e-01, 1.40517874e-02, 2.97548019e-03, 2.77205055e-02,\n",
       "        2.77205055e-02],\n",
       "       [2.18305187e-01, 1.32859342e-02, 2.81368099e-03, 2.64511993e-02,\n",
       "        2.64511993e-02],\n",
       "       [2.16430145e-01, 1.25605403e-02, 2.66036706e-03, 2.52280407e-02,\n",
       "        2.52280407e-02],\n",
       "       [2.14658647e-01, 1.18736931e-02, 2.51514698e-03, 2.40505811e-02,\n",
       "        2.40505811e-02],\n",
       "       [2.12984980e-01, 1.12235358e-02, 2.37763857e-03, 2.29182263e-02,\n",
       "        2.29182263e-02],\n",
       "       [2.11403729e-01, 1.06082688e-02, 2.24747092e-03, 2.18302636e-02,\n",
       "        2.18302636e-02],\n",
       "       [2.09909791e-01, 1.00261565e-02, 2.12428614e-03, 2.07858653e-02,\n",
       "        2.07858653e-02],\n",
       "       [2.08498331e-01, 9.47552877e-03, 2.00773641e-03, 1.97841174e-02,\n",
       "        1.97841174e-02],\n",
       "       [2.07164796e-01, 8.95478153e-03, 1.89748575e-03, 1.88240257e-02,\n",
       "        1.88240257e-02],\n",
       "       [2.05904863e-01, 8.46236855e-03, 1.79321134e-03, 1.79045466e-02,\n",
       "        1.79045466e-02],\n",
       "       [2.04714428e-01, 7.99680663e-03, 1.69460876e-03, 1.70245811e-02,\n",
       "        1.70245811e-02],\n",
       "       [2.03589714e-01, 7.55670785e-03, 1.60139226e-03, 1.61829729e-02,\n",
       "        1.61829729e-02],\n",
       "       [2.02527010e-01, 7.14070585e-03, 1.51327370e-03, 1.53785650e-02,\n",
       "        1.53785650e-02],\n",
       "       [2.01522902e-01, 6.74752369e-03, 1.42996973e-03, 1.46101747e-02,\n",
       "        1.46101747e-02],\n",
       "       [2.00574141e-01, 6.37593813e-03, 1.35123297e-03, 1.38765961e-02,\n",
       "        1.38765961e-02],\n",
       "       [1.99677660e-01, 6.02478661e-03, 1.27682645e-03, 1.31766188e-02,\n",
       "        1.31766188e-02],\n",
       "       [1.98830561e-01, 5.69296368e-03, 1.20650782e-03, 1.25090433e-02,\n",
       "        1.25090433e-02],\n",
       "       [1.98030112e-01, 5.37942101e-03, 1.14005960e-03, 1.18726701e-02,\n",
       "        1.18726701e-02],\n",
       "       [1.97273732e-01, 5.08316291e-03, 1.07727159e-03, 1.12663133e-02,\n",
       "        1.12663133e-02],\n",
       "       [1.96558982e-01, 4.80324508e-03, 1.01794462e-03, 1.06888021e-02,\n",
       "        1.06888021e-02],\n",
       "       [1.95883556e-01, 4.53877170e-03, 9.61889441e-04, 1.01389852e-02,\n",
       "        1.01389852e-02],\n",
       "       [1.95245281e-01, 4.28889518e-03, 9.08926822e-04, 9.61573421e-03,\n",
       "        9.61573421e-03],\n",
       "       [1.94642101e-01, 4.05281165e-03, 8.58886686e-04, 9.11794323e-03,\n",
       "        9.11794323e-03],\n",
       "       [1.94072074e-01, 3.82976186e-03, 8.11608149e-04, 8.64453435e-03,\n",
       "        8.64453435e-03],\n",
       "       [1.93533381e-01, 3.61903147e-03, 7.66939818e-04, 8.19445842e-03,\n",
       "        8.19445842e-03],\n",
       "       [1.93024285e-01, 3.41993651e-03, 7.24737229e-04, 7.76669633e-03,\n",
       "        7.76669633e-03],\n",
       "       [1.92543153e-01, 3.23183316e-03, 6.84865022e-04, 7.36025883e-03,\n",
       "        7.36025883e-03],\n",
       "       [1.92088442e-01, 3.05411347e-03, 6.47196245e-04, 6.97418724e-03,\n",
       "        6.97418724e-03],\n",
       "       [1.91658695e-01, 2.88620278e-03, 6.11609789e-04, 6.60755489e-03,\n",
       "        6.60755489e-03],\n",
       "       [1.91252537e-01, 2.72755932e-03, 5.77990356e-04, 6.25946729e-03,\n",
       "        6.25946729e-03],\n",
       "       [1.90868666e-01, 2.57766921e-03, 5.46225126e-04, 5.92906491e-03,\n",
       "        5.92906491e-03],\n",
       "       [1.90505856e-01, 2.43604802e-03, 5.16206742e-04, 5.61552051e-03,\n",
       "        5.61552051e-03],\n",
       "       [1.90162947e-01, 2.30223736e-03, 4.87835144e-04, 5.31803739e-03,\n",
       "        5.31803739e-03],\n",
       "       [1.89838844e-01, 2.17580425e-03, 4.61039434e-04, 5.03583727e-03,\n",
       "        5.03583727e-03],\n",
       "       [1.89532511e-01, 2.05634031e-03, 4.35720177e-04, 4.76819052e-03,\n",
       "        4.76819052e-03],\n",
       "       [1.89242972e-01, 1.94345965e-03, 4.11796529e-04, 4.51439063e-03,\n",
       "        4.51439063e-03],\n",
       "       [1.88969302e-01, 1.83679763e-03, 3.89191290e-04, 4.27376087e-03,\n",
       "        4.27376087e-03],\n",
       "       [1.88710630e-01, 1.73600996e-03, 3.67831282e-04, 4.04565357e-03,\n",
       "        4.04565357e-03],\n",
       "       [1.88466130e-01, 1.64077150e-03, 3.47647642e-04, 3.82944905e-03,\n",
       "        3.82944905e-03],\n",
       "       [1.88235025e-01, 1.55077524e-03, 3.28575264e-04, 3.62455499e-03,\n",
       "        3.62455499e-03],\n",
       "       [1.88016578e-01, 1.46573100e-03, 3.10552613e-04, 3.43040530e-03,\n",
       "        3.43040530e-03],\n",
       "       [1.87810094e-01, 1.38536454e-03, 2.93521747e-04, 3.24645864e-03,\n",
       "        3.24645864e-03],\n",
       "       [1.87614914e-01, 1.30941708e-03, 2.77427982e-04, 3.07219881e-03,\n",
       "        3.07219881e-03],\n",
       "       [1.87430423e-01, 1.23764656e-03, 2.62220208e-04, 2.90713651e-03,\n",
       "        2.90713651e-03],\n",
       "       [1.87256032e-01, 1.16982089e-03, 2.47848860e-04, 2.75080169e-03,\n",
       "        2.75080169e-03],\n",
       "       [1.87091187e-01, 1.10572241e-03, 2.34267257e-04, 2.60274847e-03,\n",
       "        2.60274847e-03],\n",
       "       [1.86935364e-01, 1.04514493e-03, 2.21430708e-04, 2.46255156e-03,\n",
       "        2.46255156e-03],\n",
       "       [1.86788067e-01, 9.87893773e-04, 2.09297015e-04, 2.32980562e-03,\n",
       "        2.32980562e-03],\n",
       "       [1.86648834e-01, 9.33787668e-04, 1.97827846e-04, 2.20412901e-03,\n",
       "        2.20412901e-03],\n",
       "       [1.86517219e-01, 8.82651327e-04, 1.86991227e-04, 2.08514873e-03,\n",
       "        2.08514873e-03],\n",
       "       [1.86392804e-01, 8.34321328e-04, 1.76755067e-04, 1.97251592e-03,\n",
       "        1.97251592e-03],\n",
       "       [1.86275195e-01, 7.88643254e-04, 1.67076226e-04, 1.86590451e-03,\n",
       "        1.86590451e-03],\n",
       "       [1.86164010e-01, 7.45467370e-04, 1.57928514e-04, 1.76498896e-03,\n",
       "        1.76498896e-03],\n",
       "       [1.86058915e-01, 7.04663043e-04, 1.49283194e-04, 1.66948648e-03,\n",
       "        1.66948648e-03],\n",
       "       [1.85959587e-01, 6.66103716e-04, 1.41113234e-04, 1.57912136e-03,\n",
       "        1.57912136e-03],\n",
       "       [1.85865676e-01, 6.29652279e-04, 1.33389786e-04, 1.49359380e-03,\n",
       "        1.49359380e-03],\n",
       "       [1.85776899e-01, 5.95198576e-04, 1.26090011e-04, 1.41266094e-03,\n",
       "        1.41266094e-03],\n",
       "       [1.85692978e-01, 5.62633523e-04, 1.19190999e-04, 1.33608093e-03,\n",
       "        1.33608093e-03],\n",
       "       [1.85613645e-01, 5.31852700e-04, 1.12670553e-04, 1.26362167e-03,\n",
       "        1.26362167e-03],\n",
       "       [1.85538649e-01, 5.02758222e-04, 1.06507306e-04, 1.19506531e-03,\n",
       "        1.19506531e-03],\n",
       "       [1.85467751e-01, 4.75256644e-04, 1.00680922e-04, 1.13020309e-03,\n",
       "        1.13020309e-03],\n",
       "       [1.85400727e-01, 4.49260737e-04, 9.51721322e-05, 1.06883943e-03,\n",
       "        1.06883943e-03],\n",
       "       [1.85337369e-01, 4.24689432e-04, 8.99643241e-05, 1.01079083e-03,\n",
       "        1.01079083e-03],\n",
       "       [1.85277475e-01, 4.01463757e-04, 8.50458125e-05, 9.55875699e-04,\n",
       "        9.55875699e-04],\n",
       "       [1.85220855e-01, 3.79509736e-04, 8.03941153e-05, 9.03930192e-04,\n",
       "        9.03930192e-04],\n",
       "       [1.85167330e-01, 3.58757573e-04, 7.59984512e-05, 8.54793376e-04,\n",
       "        8.54793376e-04],\n",
       "       [1.85116730e-01, 3.39141353e-04, 7.18425002e-05, 8.08315927e-04,\n",
       "        8.08315927e-04],\n",
       "       [1.85068895e-01, 3.20598340e-04, 6.79142370e-05, 7.64353634e-04,\n",
       "        7.64353634e-04],\n",
       "       [1.85023674e-01, 3.03070007e-04, 6.42008705e-05, 7.22772375e-04,\n",
       "        7.22772375e-04],\n",
       "       [1.84980924e-01, 2.86500778e-04, 6.06907354e-05, 6.83444249e-04,\n",
       "        6.83444249e-04],\n",
       "       [1.84940524e-01, 2.70843039e-04, 5.73737226e-05, 6.46259482e-04,\n",
       "        6.46259482e-04],\n",
       "       [1.84902322e-01, 2.56038502e-04, 5.42374492e-05, 6.11083666e-04,\n",
       "        6.11083666e-04],\n",
       "       [1.84866208e-01, 2.42043822e-04, 5.12727330e-05, 5.77816394e-04,\n",
       "        5.77816394e-04],\n",
       "       [1.84832065e-01, 2.28814025e-04, 4.84700477e-05, 5.46353448e-04,\n",
       "        5.46353448e-04],\n",
       "       [1.84799790e-01, 2.16308306e-04, 4.58207774e-05, 5.16599756e-04,\n",
       "        5.16599756e-04],\n",
       "       [1.84769277e-01, 2.04486324e-04, 4.33163986e-05, 4.88461435e-04,\n",
       "        4.88461435e-04],\n",
       "       [1.84740432e-01, 1.93310947e-04, 4.09490713e-05, 4.61851952e-04,\n",
       "        4.61851952e-04],\n",
       "       [1.84713162e-01, 1.82746007e-04, 3.87111786e-05, 4.36686941e-04,\n",
       "        4.36686941e-04],\n",
       "       [1.84687379e-01, 1.72758246e-04, 3.65957504e-05, 4.12888631e-04,\n",
       "        4.12888631e-04],\n",
       "       [1.84663006e-01, 1.63316433e-04, 3.45962466e-05, 3.90383897e-04,\n",
       "        3.90383897e-04],\n",
       "       [1.84639965e-01, 1.54391166e-04, 3.27066024e-05, 3.69103709e-04,\n",
       "        3.69103709e-04],\n",
       "       [1.84618181e-01, 1.45953249e-04, 3.09209837e-05, 3.48979317e-04,\n",
       "        3.48979317e-04],\n",
       "       [1.84597588e-01, 1.37976771e-04, 2.92342512e-05, 3.29949484e-04,\n",
       "        3.29949484e-04],\n",
       "       [1.84578122e-01, 1.30437508e-04, 2.76388645e-05, 3.11958272e-04,\n",
       "        3.11958272e-04],\n",
       "       [1.84559719e-01, 1.23310394e-04, 2.61213488e-05, 2.94951153e-04,\n",
       "        2.94951153e-04],\n",
       "       [1.84542322e-01, 1.16572673e-04, 2.46948779e-05, 2.78865633e-04,\n",
       "        2.78865633e-04],\n",
       "       [1.84525876e-01, 1.10203258e-04, 2.33452481e-05, 2.63656658e-04,\n",
       "        2.63656658e-04],\n",
       "       [1.84510328e-01, 1.04182027e-04, 2.20678875e-05, 2.49276856e-04,\n",
       "        2.49276856e-04],\n",
       "       [1.84495629e-01, 9.84896802e-05, 2.08627773e-05, 2.35678683e-04,\n",
       "        2.35678683e-04],\n",
       "       [1.84481732e-01, 9.31084539e-05, 1.97227400e-05, 2.22821754e-04,\n",
       "        2.22821754e-04],\n",
       "       [1.84468595e-01, 8.80209943e-05, 1.86451420e-05, 2.10664501e-04,\n",
       "        2.10664501e-04],\n",
       "       [1.84456179e-01, 8.32130446e-05, 1.76266341e-05, 1.99173311e-04,\n",
       "        1.99173311e-04],\n",
       "       [1.84444443e-01, 7.86686996e-05, 1.66639514e-05, 1.88310448e-04,\n",
       "        1.88310448e-04],\n",
       "       [1.84433345e-01, 7.43712777e-05, 1.57536815e-05, 1.78036328e-04,\n",
       "        1.78036328e-04],\n",
       "       [1.84422853e-01, 7.03087512e-05, 1.48934085e-05, 1.68322335e-04,\n",
       "        1.68322335e-04],\n",
       "       [1.84412934e-01, 6.64679815e-05, 1.40804787e-05, 1.59137236e-04,\n",
       "        1.59137236e-04],\n",
       "       [1.84403556e-01, 6.28369768e-05, 1.33125084e-05, 1.50452459e-04,\n",
       "        1.50452459e-04],\n",
       "       [1.84394691e-01, 5.94045630e-05, 1.25873012e-05, 1.42241337e-04,\n",
       "        1.42241337e-04],\n",
       "       [1.84386310e-01, 5.61592988e-05, 1.19003811e-05, 1.34477638e-04,\n",
       "        1.34477638e-04]])"
      ]
     },
     "execution_count": 44,
     "metadata": {},
     "output_type": "execute_result"
    }
   ],
   "source": [
    "sol"
   ]
  },
  {
   "cell_type": "code",
   "execution_count": null,
   "metadata": {},
   "outputs": [],
   "source": []
  }
 ],
 "metadata": {
  "kernelspec": {
   "display_name": "SageMath 9.1",
   "language": "sage",
   "name": "sagemath"
  },
  "language_info": {
   "codemirror_mode": {
    "name": "ipython",
    "version": 3
   },
   "file_extension": ".py",
   "mimetype": "text/x-python",
   "name": "python",
   "nbconvert_exporter": "python",
   "pygments_lexer": "ipython3",
   "version": "3.7.3"
  }
 },
 "nbformat": 4,
 "nbformat_minor": 4
}
